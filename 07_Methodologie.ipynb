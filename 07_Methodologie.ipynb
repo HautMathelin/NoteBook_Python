{
 "cells": [
  {
   "cell_type": "markdown",
   "metadata": {},
   "source": [
    "# Chapitre 7: Méthodologie"
   ]
  },
  {
   "cell_type": "markdown",
   "metadata": {},
   "source": [
    "## 1. Introduction\n",
    "L'objectif de cette page est de vous aider à devenir **autonome** dans l'écriture de vos code Python.\n",
    "\n",
    "Les débutants en programmation négligent parfois la phase d'analyse du problème posé ... et pourtant c'est bien là que tout se joue !\n",
    "\n",
    "### a. Notion d'algorithme\n",
    "Avant de pouvoir coder le programme, il faut disposer d'un algorithme.<br>\n",
    "Un **algorithme est une description précise et non ambigüe des étapes** pour résoudre un problème de manière suffisamment générale (pas seulement dans un cas très particulier).\n",
    "\n",
    "### b. Trouver les paramètres\n",
    "Quelles informations l'utilisateur devra-t-il transmettre à la fonction pour qu'elle puisse s'exécuter ?\n",
    "\n",
    "Le programmeur ne connait pas à l'avance toutes les valeurs à utiliser. Il va donc:\n",
    "* nommer les variables dont a besoin la fonction et dont les valeurs ne seront connues qu'au moment d'utiliser la fonction\n",
    "* les déclarer dans l'en-tête de la fonction\n",
    "\n",
    "Les variables dont la valeur ne sera connue qu'à l'exécution s'appelle les *paramètres* de la fonction"
   ]
  },
  {
   "cell_type": "markdown",
   "metadata": {},
   "source": [
    "## 2. Taux d'évolution\n",
    "\n",
    "### a. Enoncé du problème\n",
    "Le but est d'écrire une fonction Python qui calcule le taux d'évolution d'une grandeur qui a variée.\n",
    "\n",
    "### b. Analyse (sans toucher à l'ordinateur)\n",
    "\n",
    "#### Quelles sont les paramètres nécessaires ?\n",
    "Pour calculer le taux de variation d'une grandeur, il faut connaitre la valeur initiale et la valeur finale. Nous prendrons donc comme paramètres:\n",
    "* *initiale* qui contiendra la valeur initiale\n",
    "* *finale* qui contiendra la valeur finale"
   ]
  },
  {
   "cell_type": "code",
   "execution_count": null,
   "metadata": {},
   "outputs": [],
   "source": [
    "from rep_methodologie import *\n",
    "print( taux_bloc() )"
   ]
  },
  {
   "cell_type": "markdown",
   "metadata": {},
   "source": [
    "#### Déterminer l'en-tête de la fonction\n",
    "Nommons notre fonction *taux*: elle prend comme paramètres *initiale* et *finale*.<br>\n",
    "Il est maintenant facile de définir l'en-tête\n",
    "<pre><code>def taux(initiale, finale):</code></pre>\n",
    "\n",
    "####  Trouver les étapes avec un papier/crayon\n",
    "Ecrire dans le code Python comment réaliser la tâche est très facile ... si on sait décrire sur du papier comment la réaliser à la main ?\n",
    "\n",
    "##### 1. Echauffons-nous sur un exemple\n",
    "Si on n'arrive pas trouver la méthode, on peut essayer de travailler sur de petits exemples puis de tenter de généraliser.\n",
    "\n",
    "Imaginons qu'un prix passe de 80 € à 70 €. Calculer le taux de variation.<br>\n",
    "Puis exécuter le code ci-dessous pour voir le corrigé."
   ]
  },
  {
   "cell_type": "code",
   "execution_count": null,
   "metadata": {},
   "outputs": [],
   "source": [
    "from rep_methodologie import *\n",
    "print( taux_exemple() )"
   ]
  },
  {
   "cell_type": "markdown",
   "metadata": {},
   "source": [
    "##### 2. Généralisons\n",
    "Mais notre algorithme ne doit pas répondre qu'à ce problème particulier mais à toute une classe de problème du même type.\n",
    "\n",
    "Généraliser la démarche ci-dessus pour répondre au problème initial en ne connaissant que les varaibles *initiale* et *finale* et non leurs valeurs (qui ne seront connues qu'à l'éxécuion).\n",
    "\n",
    "Pour cela, écrire le taux en fonction de *initiale* et de *finale*\n",
    "Puis exécuter le code ci-dessous pour voir le corrigé."
   ]
  },
  {
   "cell_type": "code",
   "execution_count": null,
   "metadata": {},
   "outputs": [],
   "source": [
    "from rep_methodologie import *\n",
    "print( taux_bloc() )"
   ]
  },
  {
   "cell_type": "markdown",
   "metadata": {},
   "source": [
    "#### Communiquer les résultats\n",
    "Faire faire les calculs à la fonction sans communiquer les résultats n'a pas grand intérêt.\n",
    "\n",
    "Que doit retourner la fonction ? Ecrire la dernière ligne de votre fonction.<br>\n",
    "Puis exécuter le code ci-dessous pour vous corriger."
   ]
  },
  {
   "cell_type": "code",
   "execution_count": null,
   "metadata": {},
   "outputs": [],
   "source": [
    "from rep_methodologie import *\n",
    "print( taux_communiquer() )"
   ]
  },
  {
   "cell_type": "markdown",
   "metadata": {
    "pycharm": {
     "name": "#%% md\n"
    }
   },
   "source": [
    "### c. Ecriture du code\n",
    "1. Dans le cadre ci-dessous, écrire le code Python de la fonction *taux*\n",
    "\n",
    "\n",
    "2. Faire exécuter le code pour que l'interpréteur Python enregistre votre fonction *taux*\n",
    "\n",
    "\n",
    "3. Quand l'exécution du cadre ne renvoie plus de messages d'erreur passer à l'étape suivante."
   ]
  },
  {
   "cell_type": "code",
   "execution_count": null,
   "metadata": {
    "pycharm": {
     "name": "#%%\n"
    }
   },
   "outputs": [],
   "source": [
    "\n",
    "\n",
    "\n"
   ]
  },
  {
   "cell_type": "markdown",
   "metadata": {},
   "source": [
    "### d. Tester son code\n",
    "Avec un prix qui passe de 80 € à 70 €, le taux d'évolution est de: - 0,125\n",
    "\n",
    "Dans le cadre ci-dessous, tester votre fonction avec la situation précédente."
   ]
  },
  {
   "cell_type": "code",
   "execution_count": null,
   "metadata": {},
   "outputs": [],
   "source": []
  },
  {
   "cell_type": "markdown",
   "metadata": {},
   "source": [
    "## 3. Histoire de remises\n",
    "\n",
    "### a. Enoncé du problème\n",
    "Afin de réduire son stock de tee-shirt de la marque Tébo, un magasin organise une « vente par lot ». Il propose :\n",
    "* pour un ou deux tee-shirts achetés du même modèle, le client ne bénéficie d’aucune réduction\n",
    "* à partir de trois articles achetés du même modèle, le client bénéficie de 40 % de remise sur chaque article\n",
    "\n",
    "Le but est d'écrire une fonction Python, nommée *solde*, qui calcule le prix total que doit payer un client quand il achète des tee-shirts de même modèle. \n",
    "\n",
    "\n",
    "\n",
    "### b. Analyse (sans toucher à l'ordinateur)\n",
    "\n",
    "#### Quelles sont les paramètres nécessaires ?\n",
    "Pour calculer le prix total à payer par le client, que devez-vous connaitre ? \n",
    "\n",
    "Réfléchissez puis exécuter le code ci-dessous pour avoir la réponse."
   ]
  },
  {
   "cell_type": "code",
   "execution_count": null,
   "metadata": {},
   "outputs": [],
   "source": [
    "from rep_methodologie import *\n",
    "print(remise_parametre())"
   ]
  },
  {
   "cell_type": "markdown",
   "metadata": {},
   "source": [
    "#### Déterminer l'en-tête de la fonction\n",
    "Donner l'en-tête de la fonction que nous mettrons dans le code.\n",
    "\n",
    "Réfléchissez puis exécuter le code ci-dessous pour avoir la réponse"
   ]
  },
  {
   "cell_type": "code",
   "execution_count": null,
   "metadata": {},
   "outputs": [],
   "source": [
    "from rep_methodologie import *\n",
    "print( remise_entete() )"
   ]
  },
  {
   "cell_type": "markdown",
   "metadata": {},
   "source": [
    "####  Trouver les étapes avec un papier/crayon\n",
    "Ecrire dans le corps de la fonction est très facile ... si on sait décrire la tâche à réaliser sur du papier comment la réaliser à la main. \n",
    "\n",
    "Comment feriez-vous pour calculer le prix total à payer ?\n",
    "\n",
    "Réfléchissez puis exécuter le code ci-dessous pour avoir la réponse"
   ]
  },
  {
   "cell_type": "code",
   "execution_count": null,
   "metadata": {},
   "outputs": [],
   "source": [
    "from rep_methodologie import *\n",
    "print( remise_bloc() )"
   ]
  },
  {
   "cell_type": "markdown",
   "metadata": {},
   "source": [
    "#### Communiquer les résultats\n",
    "Faire exécuter les calculs à la fonction *solde* sans communiquer les résultats n'a pas grand intérêt.\n",
    "\n",
    "Que doit retourner la fonction *solde* ?\n",
    "\n",
    "Réfléchissez puis exécuter le code ci-dessous pour avoir la réponse"
   ]
  },
  {
   "cell_type": "code",
   "execution_count": null,
   "metadata": {},
   "outputs": [],
   "source": [
    "from rep_methodologie import *\n",
    "print( remise_communiquer() )"
   ]
  },
  {
   "cell_type": "markdown",
   "metadata": {},
   "source": [
    "### c. Ecriture du code\n",
    "1. Dans le cadre ci-dessous, écrire le code Python de notre fonction.\n",
    "\n",
    "\n",
    "2. Faire exécuter le code pour que l'interpréteur Python enregistre votre fonction *solde*\n",
    "\n",
    "\n",
    "3. Quand l'exécution du cadre ne renvoie plus de messages d'erreur passer à l'étape suivante."
   ]
  },
  {
   "cell_type": "code",
   "execution_count": null,
   "metadata": {},
   "outputs": [],
   "source": [
    "\n",
    "\n",
    "\n"
   ]
  },
  {
   "cell_type": "markdown",
   "metadata": {},
   "source": [
    "### d. Tester son code\n",
    "Il est important de bien tester son code: les bugs peuvent coûter très chers !\n",
    "\n",
    "Exécuter le code du cadre ci_dessous.\n",
    "\n",
    "<br>\n",
    "Des pistes si vous obtenez une erreur:\n",
    "* *name 'solde' is not defined* vous n'avez pas exécuté le **cadre précédent** ou il est encore bogué\n",
    "\n",
    "\n",
    "* *local variable 'prix_total' referenced before assignment* l'exécution n'est pas passé par une ligne *prix_total = ...*\n",
    "\n",
    "\n",
    "* *solde() takes 1 positional argument but 2 were given* vérifiez que solde a bien les paramètres *n et *p* séparés par une virgule dans sa définition."
   ]
  },
  {
   "cell_type": "code",
   "execution_count": null,
   "metadata": {},
   "outputs": [],
   "source": [
    "# Tests pour la fonction solde\n",
    "# Ne rien toucher dans ce cadre\n",
    "\n",
    "if solde(0, 200) != 0 :\n",
    "   print(\"erreur pour 0 tee-shirt, le prix doit être 0\")\n",
    "elif solde(1, 200) != 200 :\n",
    "   print(\"erreur pour 1 tee-shirt, le prix doit être 200\")\n",
    "elif solde(2, 200) != 400 :\n",
    "   print(\"erreur pour 2 tee-shirts, le prix doit être 400\")\n",
    "elif solde(3, 200) != 360 :\n",
    "   print(\"erreur pour 3 tee-shirts, le prix doit être 360\")\n",
    "elif solde(4, 200) != 480 :\n",
    "   print(\"erreur pour 4 tee-shirts, le prix doit être 480\")\n",
    "elif solde(2, 120) != 240 :\n",
    "   print(\"erreur pour 2 tee-shirts, le prix doit être 240\")\n",
    "else:\n",
    "   print(\"Votre fonction a passé les tests avec succès\")"
   ]
  },
  {
   "cell_type": "code",
   "execution_count": null,
   "metadata": {},
   "outputs": [],
   "source": []
  }
 ],
 "metadata": {
  "kernelspec": {
   "display_name": "Python 3",
   "language": "python",
   "name": "python3"
  },
  "language_info": {
   "codemirror_mode": {
    "name": "ipython",
    "version": 3
   },
   "file_extension": ".py",
   "mimetype": "text/x-python",
   "name": "python",
   "nbconvert_exporter": "python",
   "pygments_lexer": "ipython3",
   "version": "3.7.6"
  }
 },
 "nbformat": 4,
 "nbformat_minor": 1
}
