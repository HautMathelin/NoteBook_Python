{
 "cells": [
  {
   "cell_type": "markdown",
   "metadata": {},
   "source": [
    "# Chapitre 3: Types de variables\n",
    "## 1. Les types utilisés en lycée\n",
    "### a. Notion de type\n",
    "Le stockage dune donnée en mémoire dépend de sa nature: nombre entier, nombre décimal, texte, ...\n",
    "La nature de cette valeur (et donc la manière dont elle est stockée et les manipultions que l'on peut faire avec) s'appelle son **type**\n",
    "\n",
    "### b. Des types à connaitre\n",
    "Quand une variable contient un nombre entier, on dit qu'elle est de **type entier** (*int* en Python)\n",
    "\n",
    "Quand une variable contient un nombre décimal, on dit qu'elle est de **type flottant** (*float* en Python)\n",
    "\n",
    "Quand une variable contient du texte, on dit qu'elle est de **type chaine de caractères** (*str* en Python)\n",
    "\n",
    "Quand une variable contient une liste de valeurs, on dit qu'elle est de **type liste** (*list* en Python)\n",
    "\n",
    "Quand une variable contient soit la valeur **True**, soit la valeur **False**, on dit qu'elle est de **type booleen** (*bool* en Python).<br>Une variable booléenne vaut donc soit 'vraie', soit 'faux'. "
   ]
  },
  {
   "cell_type": "markdown",
   "metadata": {},
   "source": [
    "## 2. Exercices\n",
    "\n",
    "En Python, on utilise l'instruction *type(toto)* pour connaitre le type du contenu de la variable *toto*.\n",
    "Il est inutile de mémoriser cette instruction.\n",
    "\n",
    "\n",
    "### a. Exercice A\n",
    "1. Après exécution de <span style=\"text-align:left; background: lightyellow ; border: 1px solid #999; margin: 3px 0 ; padding: 5px ; width:20%\">a = 5.3</span>, donner le type de la variable *a*\n",
    "\n",
    "\n",
    "2. Après avoir répondu dans votre tête, exécuter le code du cadre pour vous vérifier.<br>Pour cela, sélectionner le cadre en cliquant dedans puis appuyer sur le bouton *Exécuter* tout en haut de la page."
   ]
  },
  {
   "cell_type": "code",
   "execution_count": 3,
   "metadata": {},
   "outputs": [
    {
     "data": {
      "text/plain": [
       "float"
      ]
     },
     "execution_count": 3,
     "metadata": {},
     "output_type": "execute_result"
    }
   ],
   "source": [
    "a = 5.3\n",
    "type(a)"
   ]
  },
  {
   "cell_type": "markdown",
   "metadata": {},
   "source": [
    "### b. Exercice B\n",
    "1. Après exécution de <span style=\"text-align:left; background: lightyellow ; border: 1px solid #999; margin: 3px 0 ; padding: 5px ; width:20%\">a = 'bonjour'</span>, donner le type de la variable *a*\n",
    "\n",
    "\n",
    "2. Après avoir répondu dans votre tête, exécuter le code du cadre pour vous vérifier.<br>Pour cela, sélectionner le cadre en cliquant dedans puis appuyer sur le bouton *Exécuter* tout en haut de la page."
   ]
  },
  {
   "cell_type": "code",
   "execution_count": 4,
   "metadata": {},
   "outputs": [
    {
     "data": {
      "text/plain": [
       "str"
      ]
     },
     "execution_count": 4,
     "metadata": {},
     "output_type": "execute_result"
    }
   ],
   "source": [
    "a = 'bonjour'\n",
    "type(a)"
   ]
  },
  {
   "cell_type": "markdown",
   "metadata": {},
   "source": [
    "### c. Exercice C\n",
    "1. Après exécution de <span style=\"text-align:left; background: lightyellow ; border: 1px solid #999; margin: 3px 0 ; padding: 5px ; width:20%\">a = [4, 7, -3]</span>, donner le type de la variable *a*\n",
    "\n",
    "\n",
    "2. Après avoir répondu dans votre tête, exécuter le code du cadre pour vous vérifier.<br>Pour cela, sélectionner le cadre en cliquant dedans puis appuyer sur le bouton *Exécuter* tout en haut de la page."
   ]
  },
  {
   "cell_type": "code",
   "execution_count": 5,
   "metadata": {},
   "outputs": [
    {
     "data": {
      "text/plain": [
       "list"
      ]
     },
     "execution_count": 5,
     "metadata": {},
     "output_type": "execute_result"
    }
   ],
   "source": [
    "a = [4, 7, -3]\n",
    "type(a)"
   ]
  },
  {
   "cell_type": "markdown",
   "metadata": {},
   "source": [
    "### d. Exercice D\n",
    "1. Après exécution de <span style=\"text-align:left; background: lightyellow ; border: 1px solid #999; margin: 3px 0 ; padding: 5px ; width:20%\">a = \"au revoir\"</span>, donner le type de la variable *a*\n",
    "\n",
    "\n",
    "2. Après avoir répondu dans votre tête, exécuter le code du cadre pour vous vérifier.<br>Pour cela, sélectionner le cadre en cliquant dedans puis appuyer sur le bouton *Exécuter* tout en haut de la page."
   ]
  },
  {
   "cell_type": "code",
   "execution_count": 6,
   "metadata": {},
   "outputs": [
    {
     "data": {
      "text/plain": [
       "str"
      ]
     },
     "execution_count": 6,
     "metadata": {},
     "output_type": "execute_result"
    }
   ],
   "source": [
    "a = \"au revoir\"\n",
    "type(a)"
   ]
  },
  {
   "cell_type": "markdown",
   "metadata": {},
   "source": [
    "### e. Exercice E\n",
    "1. Après exécution de <span style=\"text-align:left; background: lightyellow ; border: 1px solid #999; margin: 3px 0 ; padding: 5px ; width:20%\">a = 7.0</span>, donner le type de la variable *a*\n",
    "\n",
    "\n",
    "2. Après avoir répondu dans votre tête, exécuter le code du cadre pour vous vérifier.<br>Pour cela, sélectionner le cadre en cliquant dedans puis appuyer sur le bouton *Exécuter* tout en haut de la page."
   ]
  },
  {
   "cell_type": "code",
   "execution_count": 7,
   "metadata": {},
   "outputs": [
    {
     "data": {
      "text/plain": [
       "float"
      ]
     },
     "execution_count": 7,
     "metadata": {},
     "output_type": "execute_result"
    }
   ],
   "source": [
    "a = 7.0\n",
    "type(a)"
   ]
  },
  {
   "cell_type": "markdown",
   "metadata": {},
   "source": [
    "### f. Exercice F\n",
    "1. Après exécution de <span style=\"text-align:left; background: lightyellow ; border: 1px solid #999; margin: 3px 0 ; padding: 5px ; width:20%\">a = 6<7</span>, donner le type de la variable *a*\n",
    "\n",
    "\n",
    "2. Après avoir répondu dans votre tête, exécuter le code du cadre pour vous vérifier.<br>Pour cela, sélectionner le cadre en cliquant dedans puis appuyer sur le bouton *Exécuter* tout en haut de la page."
   ]
  },
  {
   "cell_type": "code",
   "execution_count": 8,
   "metadata": {},
   "outputs": [
    {
     "data": {
      "text/plain": [
       "bool"
      ]
     },
     "execution_count": 8,
     "metadata": {},
     "output_type": "execute_result"
    }
   ],
   "source": [
    "a = 6<7\n",
    "type(a)"
   ]
  },
  {
   "cell_type": "markdown",
   "metadata": {},
   "source": [
    "### g. Exercice G\n",
    "1. Après exécution de <span style=\"text-align:left; background: lightyellow ; border: 1px solid #999; margin: 3px 0 ; padding: 5px ; width:20%\">a = [4, 7, -3]</span>, donner le type de la variable *a*\n",
    "\n",
    "\n",
    "2. Après avoir répondu dans votre tête, exécuter le code du cadre pour vous vérifier.<br>Pour cela, sélectionner le cadre en cliquant dedans puis appuyer sur le bouton *Exécuter* tout en haut de la page."
   ]
  },
  {
   "cell_type": "code",
   "execution_count": 9,
   "metadata": {},
   "outputs": [
    {
     "data": {
      "text/plain": [
       "int"
      ]
     },
     "execution_count": 9,
     "metadata": {},
     "output_type": "execute_result"
    }
   ],
   "source": [
    "a = 15\n",
    "type(a)"
   ]
  },
  {
   "cell_type": "markdown",
   "metadata": {},
   "source": [
    "### h. Exercice H\n",
    "1. Après exécution de <span style=\"text-align:left; background: lightyellow ; border: 1px solid #999; margin: 3px 0 ; padding: 5px ; width:20%\">a = \"15\"</span>, donner le type de la variable *a*\n",
    "\n",
    "\n",
    "2. Après avoir répondu dans votre tête, exécuter le code du cadre pour vous vérifier.<br>Pour cela, sélectionner le cadre en cliquant dedans puis appuyer sur le bouton *Exécuter* tout en haut de la page."
   ]
  },
  {
   "cell_type": "code",
   "execution_count": 10,
   "metadata": {},
   "outputs": [
    {
     "data": {
      "text/plain": [
       "str"
      ]
     },
     "execution_count": 10,
     "metadata": {},
     "output_type": "execute_result"
    }
   ],
   "source": [
    "a = \"15\"\n",
    "type(a)"
   ]
  },
  {
   "cell_type": "markdown",
   "metadata": {},
   "source": [
    "## 4. Remarques\n",
    "* Dans un nombre, le séparateur décimal se note avec un **point**. (et non pas avec la virgule !)\n",
    "\n",
    "\n",
    "* Pour écrire une chaine de caractères, on l'encadre soit de \" (guillemets), soit de ' (apostrophes)\n",
    "\n",
    "\n",
    "* \"15\" ne donne pas un nombre mais une chaine de caractère formé de la *lettre* 1 suivie de la *lettre* 5\n",
    "\n",
    "\n",
    "* Un booléan peut être le résultat d'une comparaison\n",
    "\n",
    "\n",
    "\n",
    "## 5. Afficher un mélange de texte et de valeurs de variable\n",
    "Faire exécuter le code du cadre ci-dessous et observer ce qu'il affiche"
   ]
  },
  {
   "cell_type": "code",
   "execution_count": 11,
   "metadata": {},
   "outputs": [
    {
     "name": "stdout",
     "output_type": "stream",
     "text": [
      "g = 9   h = 7   leur produit est 63\n"
     ]
    }
   ],
   "source": [
    "g = 9\n",
    "w = 7\n",
    "print(\"g =\", g, \"  h =\", w, \"  leur produit est\", g*w)"
   ]
  },
  {
   "cell_type": "markdown",
   "metadata": {},
   "source": [
    "## 6. Savoir-faire attendus\n",
    "### a. Savoir répondre aux questions suivantes\n",
    "1. Citer 5 types de données utilisés en Python\n",
    "\n",
    "2. Comment écrire une chaine de caractère en Python pour la mettre dans une variable ou l'afficher ?\n",
    "\n",
    "3. Comment affecter la liste des nombres  5 8 85 à la variable *liste1* ?\n",
    "\n",
    "4. Comment affecter la valeur décimale 5,7 à la variable *num* ?\n",
    "\n",
    "\n",
    "\n",
    "### b. Savoir donner le type des valeurs suivantes\n",
    "* 8.0\n",
    "* 15\n",
    "* \\[ 7, 9, 3 \\]\n",
    "* \"Ursule\"\n",
    "* 'Ursule'\n",
    "* 25.9\n",
    "* True\n",
    "\n",
    "### c. Exercice\n",
    "Dans le cadre ci-dessous, \n",
    "* Sur la première ligne, mettre votre prénom dans la variable *mon_prenom*\n",
    "\n",
    "\n",
    "* Faire exécuter le code et vérifier que le code vous dit *Bonjour ...* <br>\n",
    "où les ... sont remplacés par votre prénom."
   ]
  },
  {
   "cell_type": "code",
   "execution_count": 12,
   "metadata": {},
   "outputs": [
    {
     "ename": "NameError",
     "evalue": "name 'mon_prenom' is not defined",
     "output_type": "error",
     "traceback": [
      "\u001b[1;31m---------------------------------------------------------------------------\u001b[0m",
      "\u001b[1;31mNameError\u001b[0m                                 Traceback (most recent call last)",
      "\u001b[1;32m<ipython-input-12-81bd64cdd60a>\u001b[0m in \u001b[0;36m<module>\u001b[1;34m\u001b[0m\n\u001b[1;32m----> 1\u001b[1;33m \u001b[0mprint\u001b[0m\u001b[1;33m(\u001b[0m\u001b[1;34m\"Bonjour\"\u001b[0m\u001b[1;33m,\u001b[0m \u001b[0mmon_prenom\u001b[0m\u001b[1;33m)\u001b[0m\u001b[1;33m\u001b[0m\u001b[1;33m\u001b[0m\u001b[0m\n\u001b[0m",
      "\u001b[1;31mNameError\u001b[0m: name 'mon_prenom' is not defined"
     ]
    }
   ],
   "source": [
    "\n",
    "print(\"Bonjour\", mon_prenom)"
   ]
  }
 ],
 "metadata": {
  "kernelspec": {
   "display_name": "Python 3",
   "language": "python",
   "name": "python3"
  },
  "language_info": {
   "codemirror_mode": {
    "name": "ipython",
    "version": 3
   },
   "file_extension": ".py",
   "mimetype": "text/x-python",
   "name": "python",
   "nbconvert_exporter": "python",
   "pygments_lexer": "ipython3",
   "version": "3.7.6"
  }
 },
 "nbformat": 4,
 "nbformat_minor": 4
}
