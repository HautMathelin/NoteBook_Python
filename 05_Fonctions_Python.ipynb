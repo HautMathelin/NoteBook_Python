{
 "cells": [
  {
   "cell_type": "markdown",
   "metadata": {},
   "source": [
    "# Chapitre 5: Les fonctions Python\n",
    "\n",
    "## 1. Intérêts des fonctions Python\n",
    "Il est possible de regrouper des lignes de code pour construire une fonction Python. Cela présente bien des avantages !\n",
    "\n",
    "* Réutiliser du code déjà écrit et bien testé. Par exemple, la fonction racine carrée, notée *sqrt()*, est inconnue de Python, mais en **important** le module Python, elle sera disponible.\n",
    "\n",
    "\n",
    "* Décomposer un problème complexe en petites tâches plus faciles\n",
    "\n",
    "\n",
    "* Ne pas ré-écrire les mêmes lignes de code en plusieurs endroits de votre programme\n",
    "\n",
    "\n",
    "* Traquer les \"bugs\". Un *bug* (ou *bogue* en français) est une erreur dans un processus informatique: les *bugs* peuvent coûter très cher !\n",
    "\n",
    "\n",
    "## 2. Utiliser des fonctions déjà existantes\n",
    "\n",
    "### a. Notion de module\n",
    "Il existe des milliers de bibliothèques (sous Python, on dit *module*) qui contiennent des fonctions prêtes à l'emploi. Par exemple:\n",
    "* le module *math* pour calculer des racines carrées, des cosinus, des sinus, utiliser une très bonne approximation de $\\pi$, ...\n",
    "\n",
    "* le module *random* pour simuler le 'hasard'\n",
    "\n",
    "* le module *mathplotlib* pour tracer des courbes ...\n",
    "\n",
    "### b. Importer un module\n",
    "La fonction racine carrée, notée *sqrt* n'est pas définie par défaut. Pour l'utiliser, il faut importer le *module math* (bibliothèque *math*).. Il y a deux façons d'importer en Python.\n",
    "En math, nous utiliserons la manière la plus simple à écrire.\n",
    "\n",
    "Voici un code sensé afficher une valeur approchée de racine de 2."
   ]
  },
  {
   "cell_type": "code",
   "execution_count": null,
   "metadata": {},
   "outputs": [],
   "source": [
    "\n",
    "a = sqrt(2)\n",
    "print(a)"
   ]
  },
  {
   "cell_type": "markdown",
   "metadata": {},
   "source": [
    "1. Exécuter le! Il ne fonctionne pas ! Pourquoi ?\n",
    "\n",
    "\n",
    "2. Ajouter comme première ligne l'instruction <span style=\"text-align:left; background: lightyellow ; border: 1px solid #999; margin: 1px 0 ; padding: 3px ; width:20%\">\n",
    "from math import \\*</span>. Puis ré-exécuter le code et cette fois, s'affichera 1.4142135623730951"
   ]
  },
  {
   "cell_type": "markdown",
   "metadata": {},
   "source": [
    "\n",
    "## 3. Ecrire vos propres fonctions\n",
    "### a. Instructions *def* et *return*\n",
    "Voici une fonction Python pour calculer le périmètre et l'aire d'un carré puis et renvoyer les résultats.\n",
    "<pre>\n",
    "def carre(x):\n",
    "    p = 4 * x\n",
    "    aire = x**2\n",
    "    return p, aire\n",
    "</pre>\n",
    "\n",
    "<span style=\"color:red; font-style:italic; font-weight:700\">def</span> est l'instruction pour définir une nouvelle fonction Python<br>\n",
    "Le nom de la fonction ne fait pas parti du langage Python, il a été choisi par le programmeur. Dans notre exemple, la fonction s'appelle *carre*\n",
    "\n",
    "\n",
    "Les <span style=\"color:red; font-style:italic; font-weight:700\">paramètres</span> (il peut y en avoir plusieurs) sont les variables qu'il faut fournir à la fonction pour qu'elle puisse s'éxécuter. Même s'il n'y a pas de paramètres, les parenthèses sont obligatoires.<br>\n",
    "Dans notre exemple, la fonction *toto* prend un seul paramère *x* qui représente la longueur des côtés du carré.<br>\n",
    "De même que le fabriquant de votre calculatrice ne connait pas l'angle dont vous voulez calculer le cosinus, la valeur de *x* n'est pas connu du programmeur: c'est l'utilisateur du programme qui la donnera.\n",
    "\n",
    "\n",
    "Les <span  style=\"color:red; font-weight:700\">deux-points</span>, à la fin de la ligne *def*, marquent le début du bloc d'instructions de la fonction.</span>.\n",
    "Un bloc d'instructions est décalée grâce à des espaces en début de ligne. Les lignes de code de même niveau doivent avoir <span style=\"color:red; font-weight:700\">exactement le même nombre</span> d'espaces à leur gauche.\n",
    "\n",
    "\n",
    "<span  style=\"color:red; font-weight:700; font-style:italic\">return</span> est suivi des variables dont il faut retourner les valeurs.\n",
    "*return* provoque la sortie de la fonction même s'il reste des lignes non exécutées. Il peut être omis, s'il n'y a pas de valeur à retourner."
   ]
  },
  {
   "cell_type": "markdown",
   "metadata": {},
   "source": [
    "## 3. Utiliser notre nouvelle fonction\n",
    "\n",
    "### a. Faire connaitre à l'interpréteur Python l'existence d'une nouvelle fonction\n",
    "Exécuter le code du cadre ci-dessus. \n",
    "\n",
    "En apparence, il ne se passera rien. Mais en fait, **Python aura mémorisé l'existence et l'emplacement** de cette nouvelle fonction *aire_rectangle*: maintenant il la connaitra !"
   ]
  },
  {
   "cell_type": "code",
   "execution_count": null,
   "metadata": {},
   "outputs": [],
   "source": [
    "def carre(x):\n",
    "    p = 4 * x\n",
    "    aire = x**2\n",
    "    return p, aire"
   ]
  },
  {
   "cell_type": "markdown",
   "metadata": {},
   "source": [
    "### b. Utiliser en mode console notre nouvelle fonction\n",
    "L'interpréteur de code connait notre fonction, on va pouvoir l'utiliser en ***mode console***, en tapant dans le cadre ci-dessous: <span style=\"text-align:left; background: lightyellow ; border: 1px solid #999; margin: 3px 0 ; padding: 5px ; width:20%\">\n",
    "carre(10)\n",
    "</span>"
   ]
  },
  {
   "cell_type": "code",
   "execution_count": null,
   "metadata": {},
   "outputs": [],
   "source": []
  },
  {
   "cell_type": "markdown",
   "metadata": {},
   "source": [
    "Ceci a eu pour effet de demander d'exécuter <em>carre(x)</em> avec <em>x</em> valant 10<br> \n",
    "\n",
    "\n",
    "Recommencer l'exécution, pour touver le périmètre et l'aire d'un carré de côte 8. \n",
    "Le résultat (32, 64) devrait s'afficher !"
   ]
  },
  {
   "cell_type": "markdown",
   "metadata": {},
   "source": [
    "## 5. Savoir structurer une fonction Python\n",
    "Pour chacun des cadres.\n",
    "1. Exécuter le code. Lisez le message d'erreur: un message d'erreur de lit de bas en haut !\n",
    "2. Modifier le code pour qu'il fonctionne et affiche le résultat."
   ]
  },
  {
   "cell_type": "code",
   "execution_count": null,
   "metadata": {},
   "outputs": [],
   "source": [
    "def titi(a, b, c):\n",
    "    d = a + b\n",
    "     e = a + c\n",
    "    return d, e\n",
    "\n",
    "titi(1, 2, 3)"
   ]
  },
  {
   "cell_type": "code",
   "execution_count": null,
   "metadata": {},
   "outputs": [],
   "source": [
    "def tata(a, b)\n",
    "  g = a + 2 * b\n",
    "  return g\n",
    "\n",
    "tata(10, 20)"
   ]
  },
  {
   "cell_type": "code",
   "execution_count": null,
   "metadata": {},
   "outputs": [],
   "source": [
    "def tutu(p)\n",
    "r = 5 * p\n",
    "return r\n",
    "\n",
    "tutu(12)"
   ]
  },
  {
   "cell_type": "code",
   "execution_count": null,
   "metadata": {},
   "outputs": [],
   "source": [
    "def aie_aie_aie(a):\n",
    "    b = 2 * a\n",
    "    return b\n",
    "\n",
    "    aie_aie_aie(10)"
   ]
  },
  {
   "cell_type": "code",
   "execution_count": null,
   "metadata": {},
   "outputs": [],
   "source": [
    "from math import *\n",
    "from random import *\n",
    "\n",
    " def tete():\n",
    "   x = randint(0, 180) * pi / 180\n",
    "   y = cos(x)\n",
    "   return y\n",
    "\n",
    " tete()"
   ]
  },
  {
   "cell_type": "markdown",
   "metadata": {},
   "source": [
    "## 6. Savoir faire attendus\n",
    "\n",
    "### a. Savoir répondre aux questions suivantes\n",
    "1. A quoi sert l'instruction *def* ?\n",
    "\n",
    "\n",
    "2. Comment s'écrit la première ligne d'une fonction Python<br>\n",
    "   * nommée *poupoune*<br>\n",
    "   * qui prend comme paramètres *re* et *mi*\n",
    "   \n",
    "\n",
    "3. A quoi sert l'instruction *return* ?\n",
    "\n",
    "\n",
    "4. Quelle ligne mettre dans une fonction Python pour retourner les valeurs des trois variables *je*, *tu* et *il* ?\n",
    "\n",
    "\n",
    "5. A quoi servent les espaces en début de lignes ? A quoi faut-il être extrémement vigilant ?\n",
    "\n",
    "\n",
    "6. A quoi servent les deux-points en fin de ligne *def* ? \n",
    "\n",
    "\n",
    "\n",
    "### b. Savoir-faire\n",
    "\n",
    "#### Ex 1: Savoir importer un module\n",
    "Les lignes de code suivantes génére un nombre pseudo-aléatoire simulant le lancer d'un dé. La première ligne de code est manquante.\n",
    "\n",
    "Faire exécuter le code et lire le message d'erreur qui apparait. Il se lit de bas en haut: la cause de l'erreur est indiquée et la ligne où elle s'est produite est pointée."
   ]
  },
  {
   "cell_type": "code",
   "execution_count": null,
   "metadata": {},
   "outputs": [],
   "source": [
    "\n",
    "\n",
    "def lancer_de():\n",
    "    resultat = randint(1, 6)\n",
    "    return resultat\n",
    "\n",
    "lancer_de()"
   ]
  },
  {
   "cell_type": "markdown",
   "metadata": {},
   "source": [
    "L'interpréteur Python indique ne pas connaitre la fonction <em>randint</em>.\n",
    "\n",
    "\n",
    "Pour corriger le code, sur la première ligne, importer le module *random*. \n",
    "\n",
    "\n",
    "Faire exécuter plusieurs fois le code pour comprencre ce que fait l'instruction *randint(1,6)*\n",
    "Vous remarquerez la ligne *def lance_de()*: la fonction *lance_de* n'a pas besoin de paramètre."
   ]
  },
  {
   "cell_type": "markdown",
   "metadata": {},
   "source": [
    "#### Ex 2: Savoir appeler une fonction\n",
    "La fonction suivante calcule le périmètre d'un cercle. On importe le module *math* pour ouvoir utiliser *pi*\n",
    "\n",
    "Appeler cette fonction pour calculer le périmètre d'un cercle de rayon 10."
   ]
  },
  {
   "cell_type": "code",
   "execution_count": null,
   "metadata": {},
   "outputs": [],
   "source": [
    "from math import *\n",
    "\n",
    "def perimetre_cercle(r):\n",
    "    peri = 2 * pi * r\n",
    "    return peri\n"
   ]
  },
  {
   "cell_type": "markdown",
   "metadata": {},
   "source": [
    "#### Ex 3: Savoir retourner les résultats d'une fonction\n",
    "Pour une boule de rayon $R$, l'aire est donnée par la formule $4\\pi R^2$ et le volume par $\\frac{4}{3}\\pi R^3$\n",
    "\n",
    "\n",
    "Ursule a voulu taper le code de la foncion *boule* qui calcule le volume et l'aire d'une boule. \n",
    "\n",
    "\n",
    "Son enseignant a validé les formules qu'il utilise. Compléter le code pour qu'il fournissent les résultats attendus."
   ]
  },
  {
   "cell_type": "code",
   "execution_count": null,
   "metadata": {},
   "outputs": [],
   "source": [
    "from math import *\n",
    "\n",
    "def boule(r):\n",
    "    a = 4 * pi * r**2\n",
    "    v = 4 / 3 * pi * r**3\n",
    "\n",
    "boule(10)"
   ]
  },
  {
   "cell_type": "markdown",
   "metadata": {},
   "source": [
    "#### Ex 4: Savoir donner les paramètres d'une fonction\n",
    "La fonction suivante doit calculer le volume d'un pavé. Corriger le code pour qu'il fasse ce qui est demandé"
   ]
  },
  {
   "cell_type": "code",
   "execution_count": null,
   "metadata": {},
   "outputs": [],
   "source": [
    "def pave():\n",
    "    v = longueur * largeur * hauteur\n",
    "    return v\n",
    "\n",
    "pave(5, 2, 3)  # la réponse devrait être 30"
   ]
  },
  {
   "cell_type": "markdown",
   "metadata": {},
   "source": [
    "#### Ex 5: Savoir écrire une fonction Python\n",
    "1. Ecrire une fonction Python, nommée *rectangle* qui calcule le périmètre, l'aire et la longueur des diagonales d'un rectangle.\n",
    "\n",
    "\n",
    "2. Sur votre feuille de papier, calculer:\n",
    "   * le périmètre, l'aire et une valeur approchée de la longueur des diagonales d'un rectangle de dimension 4 sur 3\n",
    "   * le périmètre, l'aire et une valeur approchée de la longueur des diagonales d'un carré de côté 4\n",
    "\n",
    "\n",
    "3. Tester votre fonction avec le jeu de valeurs ci-dessus<br>\n",
    "Quand on écrit une fonction informatique, il est important de bien la <span style=\"color:red; font-style:italic; font-weight:500\">tester avec plusieurs jeux de valeurs</span>"
   ]
  },
  {
   "cell_type": "code",
   "execution_count": null,
   "metadata": {},
   "outputs": [],
   "source": [
    "\n",
    "\n"
   ]
  }
 ],
 "metadata": {
  "kernelspec": {
   "display_name": "Python 3",
   "language": "python",
   "name": "python3"
  },
  "language_info": {
   "codemirror_mode": {
    "name": "ipython",
    "version": 3
   },
   "file_extension": ".py",
   "mimetype": "text/x-python",
   "name": "python",
   "nbconvert_exporter": "python",
   "pygments_lexer": "ipython3",
   "version": "3.7.6"
  }
 },
 "nbformat": 4,
 "nbformat_minor": 2
}
