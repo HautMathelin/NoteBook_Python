{
 "cells": [
  {
   "cell_type": "markdown",
   "metadata": {},
   "source": [
    "# Chapitre 5: Les fonctions Python\n",
    "\n",
    "## 1. Intérêts des fonctions Python\n",
    "Il est possible de regrouper des lignes de code pour construire une fonction Python. Cela présente bien des avantages !\n",
    "\n",
    "* Réutiliser du code déjà écrit et bien testé. Par exemple, de base sous Python, il n'y a pas d'instrucion pour fair calculer une valeur approchée de $\\sqrt{2}$. Bien entendu, vous n'allez pas la ré-écrire à chaque fois que vous voulez une approximation d'une racine carrée.<br>\n",
    "Vous allez simplement **importer** la fonction Python dans votre code pour l'appeler !\n",
    "\n",
    "\n",
    "* Décomposer un problème complexe en petites tâches plus faciles\n",
    "\n",
    "\n",
    "* Ne pas ré-écrire plusieurs fois les mêmes lignes de code en plusieurs endroits de votre programme\n",
    "\n",
    "* Traquer les \"bugs\". Un *bug* (ou *bogue* en français) est une erreur dans un processus informatique. Une telle erreur peuvent coûter très cher ! Bien tester chacune fonctions informatiques permet par contre de réduire considérblement le nombre de \"bugs\".\n",
    "\n",
    "\n",
    "## 2. Utiliser des fonctions déjà existantes\n",
    "Il existe des milliers de bibliothèques (sous Python, on dit *module*) qui contiennent des fonctions prêtes à l'emploi. Par exemple:\n",
    "* le module *math* pour calculer des racines carrées, des cosinus, des sinus, utiliser une très bonne approximation de $\\pi$, ...\n",
    "\n",
    "* le module *random* pour simuler le 'hasard'\n",
    "\n",
    "* le module *mathplotlib* pour tracer des courbes ...\n",
    "\n",
    "### a. Importer un module\n",
    "La fonction racine carrée, notée *sqrt* n'est pas définie par défaut. Pour l'utiliser, il faut importer le *module math* (bibliothèque *math*).. Il y a deux façons d'importer en Python.\n",
    "En math, nous utiliserons la manière la plus simple à écrire.\n",
    "\n",
    "Voici un code sensé afficher une valeur approchée de racine de 2."
   ]
  },
  {
   "cell_type": "code",
   "execution_count": null,
   "metadata": {},
   "outputs": [],
   "source": [
    "\n",
    "a = sqrt(2)\n",
    "print(a)"
   ]
  },
  {
   "cell_type": "markdown",
   "metadata": {},
   "source": [
    "1. Exécuter le ... il ne fonctionne pas ! Pourquoi ?\n",
    "\n",
    "\n",
    "2. Ajouter comme première ligne l'instruction <span style=\"text-align:left; background: lightyellow ; border: 1px solid #999; margin: 1px 0 ; padding: 3px ; width:20%\">\n",
    "from math import \\*</span>. Puis ré-exécuter le code et cette fois, s'affichera 1.4142135623730951"
   ]
  },
  {
   "cell_type": "markdown",
   "metadata": {},
   "source": [
    "\n",
    "## 3. Ecrire vos propres fonctions\n",
    "### a. Instructions *def* et *return*\n",
    "Le cadre ci-dessous contient une fonction Python pour calculer le périmètre et l'aire d'un carré puis et renvoyer les résultats."
   ]
  },
  {
   "cell_type": "code",
   "execution_count": null,
   "metadata": {},
   "outputs": [],
   "source": [
    "def carre(x):\n",
    "    p = 4 * x\n",
    "    aire = x**2\n",
    "    return p, aire"
   ]
  },
  {
   "cell_type": "markdown",
   "metadata": {},
   "source": [
    "### b. Explications du code\n",
    "Nous allons expliquer le code de la fonction *carre* et en profiter pour mettre en rouge ce que vous devez retenir.\n",
    "\n",
    "#### Première ligne:\n",
    "* <span style=\"color:red; font-style:italic; font-weight:700\">def</span> est l'instruction pour définir une nouvelle fonction Python (*def* est écrit en minuscules)\n",
    "* *carre* est le nom de la fonction que l'on définit. Ce nom ne fait pas parti du langage Python, il a été choisi par le programmeur.\n",
    "* *x* est le paramètre de la fonction. Les paramètres (il peut y en avoir plusieurs) sont les variables qu'il faut fournir à la fonction qu'elle puisse s'éxécuter.\n",
    "\n",
    "Vous remarquerez les deux-points à la fin de la ligne. \n",
    "Les <span  style=\"color:red; font-weight:500\">deux-points</span>, à la fin de la ligne *def*, marquent le début du <span style=\"color:red; font-weight:500\">bloc d'instructions de la fonction.</span>.\n",
    "\n",
    "#### Deuxième, troisième et quatrième ligne\n",
    "Ces deux lignes constituent le bloc d'instructions de la fonction. \n",
    "\n",
    "Un bloc d'instructions est décalée grâce à des espaces en début de ligne: les lignes de code de même niveau doivent avoir <span style=\"color:red; font-weight:500\">exactement le même nombre d'espaces</span> à leur gauche.\n",
    "\n",
    "#####  Deuxième ligne\n",
    "Cette ligne calcule $4 \\times contenu\\space de\\space x$ puis le résultat est affecté à la variable *p*.\n",
    "\n",
    "#### Troisième ligne\n",
    "Cette ligne calcule *contenu de x* au carrée puis affecte le résultat à la variable *aire*.\n",
    "Vous remarquerez que *x puisance 2* se note avec <span style=\"color:red; font-weight:700\">**</span> pour marquer l'exposant.\n",
    "\n",
    "##### Quatrième ligne:\n",
    "<span  style=\"color:red; font-weight:700; font-style:italic\">return</span> est suivi des variables dont il faut retourner les valeurs.\n",
    "* *return* est écrit en minuscules,\n",
    "* *return* provoque la sortie de la fonction même s'il reste des lignes non exécutées.\n",
    "* *return* est omis s'il n'y a pas de valeur à retourner"
   ]
  },
  {
   "cell_type": "markdown",
   "metadata": {},
   "source": [
    "## 3. Utiliser notre nouvelle fonction\n",
    "\n",
    "### a. Faire connaitre à l'interpréteur Python l'existence d'une nouvelle fonction\n",
    "Exécuter le code du cadre ci-dessus."
   ]
  },
  {
   "cell_type": "code",
   "execution_count": null,
   "metadata": {},
   "outputs": [],
   "source": [
    "def carre(x):\n",
    "    p = 4 * x\n",
    "    aire = x**2\n",
    "    return p, aire"
   ]
  },
  {
   "cell_type": "markdown",
   "metadata": {},
   "source": [
    "En apparence, il ne se passe rien. Mais en fait, **Python a mémorisé l'existence et l'emplacement** de cette nouvelle fonction *aire_rectangle*: maintenant il la connait !\n",
    "\n",
    "\n",
    "### b. L'exécuter en mode console\n",
    "1. On va l'utiliser en ***mode console*** (en gros comme avec une calculatrice), en tapant dans le cadre ci-dessous:<br>\n",
    "<span style=\"text-align:left; background: lightyellow ; border: 1px solid #999; margin: 1px 0 ; padding: 3px ; width:20%\">\n",
    "carre(10)\n",
    "</span><br><br>\n",
    "Ceci a pour effet de demander d'exécuter *carre(x)* avec *x* valant 10<br> \n",
    "Cela devrait afficher (40, 100) qui sont respectivement le périmètre et l'aire.\n",
    "\n",
    "\n",
    "2. Recommencer l'exécution en passant comme argument 8. Le résultat (32, 64) devrait s'afficher !<br>\n",
    "Un *argument* est la valeur d'un paramètre passée à l'appel de la fonction. Dans notre exemple:<br>\n",
    "   * la fonction *carre* a un **paramètre** qui est *x*\n",
    "   * quand on l'appelle avec *carre(10)* on lui passe **l'argument** 10: dans la fonction la variable *x* prend la valeur 10."
   ]
  },
  {
   "cell_type": "code",
   "execution_count": null,
   "metadata": {},
   "outputs": [],
   "source": []
  },
  {
   "cell_type": "markdown",
   "metadata": {},
   "source": [
    "## 4. Savoir faire attendus\n",
    "\n",
    "### a. Savoir répondre aux questions suivantes\n",
    "1. A quoi sert l'instruction *def* ?\n",
    "\n",
    "\n",
    "2. Comment s'écrit la première ligne d'une fonction Python<br>\n",
    "   * nommée *poupoune*<br>\n",
    "   * qui prend comme arguments *re* et *mi*\n",
    "   \n",
    "\n",
    "3. A quoi sert l'instruction *return* ?\n",
    "\n",
    "\n",
    "4. Quelle ligne mettre dans une fonction Python pour retourner les valeurs des trois variables *je*, *tu* et *il* ?\n",
    "\n",
    "\n",
    "5. A quoi servent les espaces en début de lignes ? A quoi faut-il être extrémement vigilant ?\n",
    "\n",
    "\n",
    "6. A quoi servent les deux-points en fin de ligne *def* ? \n",
    "\n",
    "\n",
    "7. Comment écrit-on en Python $23^7$ ?\n",
    "\n",
    "<br>\n",
    "\n",
    "\n",
    "### b. Savoir-faire\n",
    "\n",
    "#### Ex 1: Savoir importer un module\n",
    "Les lignes de code suivantes génére un nombre pseudo-aléatoire simulant le lancer d'un dé. La première ligne de code est manquante.\n",
    "\n",
    "1. Faire exécuter le code et lire le message d'errreur qui apparait. Il se lit de bas en haut: \n",
    " * la cause de l'eereur est indiquée\n",
    " * l'enchainement de lignes qui ont déclanché l'erreur est tracé.\n",
    "\n",
    "\n",
    "2. Ecrire la première ligne de code qui permet d'importer le module *random* pour que l'interpréteur connaisse l'instruction *randint*\n",
    "\n",
    "\n",
    "3. Faire exécuter plusieurs fois le code pour comprencre ce que fait l'instruction *randint(1,6)*<br>\n",
    "Vous remarquerez la ligne *def lance_de()*: la fonction *lance_de* n'a pas besoin de paramètre pour fonctionner mais les parenthèses restent obligatoires."
   ]
  },
  {
   "cell_type": "code",
   "execution_count": null,
   "metadata": {},
   "outputs": [],
   "source": [
    "\n",
    "\n",
    "def lancer_de():\n",
    "    resultat = randint(1, 6)\n",
    "    return resultat\n",
    "\n",
    "lancer_de()"
   ]
  },
  {
   "cell_type": "markdown",
   "metadata": {},
   "source": [
    "#### Ex 2: Savoir écrire l'en-tête d'une fonction\n",
    "\n",
    "La fonction suivante doit caluler le périmètre d'un cercle. \n",
    "\n",
    "1. Exécuter le code et lire le message d'erreur\n",
    "\n",
    "2. Corriger la fonction"
   ]
  },
  {
   "cell_type": "code",
   "execution_count": null,
   "metadata": {},
   "outputs": [],
   "source": [
    "def perimetre_cercle():\n",
    "    pi = 3.14\n",
    "    peri = 2 * pi * rayon\n",
    "    return rayon\n",
    "\n",
    "perimetre_cercle( 10 )"
   ]
  },
  {
   "cell_type": "markdown",
   "metadata": {},
   "source": [
    "Le module *math* fournit une valeur approchée de $\\pi$. Donc dans le cacre ci-dessus, la ligne *pi = 3.14* est inutile.\n",
    "Supprimer là.\n",
    "\n",
    "En contre partie, importer le module *math* sur la première ligne du cadre pour que la variable *pi* soit connue au moment de faire *2 * pi * rayon*."
   ]
  },
  {
   "cell_type": "markdown",
   "metadata": {},
   "source": [
    "#### Ex 3: Savoir appeler une fonction\n",
    "\n",
    "La fonction suivante calculer le volume d'un pavé.\n",
    "Faire exécuter le code du cadre suivant pour que l'interpréteur Python \"apprenne\" cette fonction."
   ]
  },
  {
   "cell_type": "code",
   "execution_count": null,
   "metadata": {},
   "outputs": [],
   "source": [
    "def pave(lognueur, largeur, hauteur):\n",
    "    v = longueur * largeur * hauteur\n",
    "    return v"
   ]
  },
  {
   "cell_type": "markdown",
   "metadata": {},
   "source": [
    "Dans le cadre console ci-dessous, Ursule a voulu appeller la fonction *pave* pour calculer le volume d'un cube de côté 10.\n",
    "\n",
    "1. Exécuter le cadre et liser le message d'erreur qui doit être à peu près<br>\n",
    "*TypeError: pave() missing ... required positional arguments: ...*<br><br>\n",
    "Si vous obtenez le message *NameError: name 'pave' is not defined* c'est que vous avez oublié de faire exécuter le cadre ci-**dessus**.\n",
    "\n",
    "\n",
    "<br>\n",
    "2. Modifier la ligne pour que le volume s'affiche bien. Le résultat affiché devrait être 1000."
   ]
  },
  {
   "cell_type": "code",
   "execution_count": null,
   "metadata": {},
   "outputs": [],
   "source": [
    "pave()"
   ]
  },
  {
   "cell_type": "markdown",
   "metadata": {},
   "source": [
    "#### Ex 4: Savoir retourner les résultats d'une fonction\n",
    "**Situation:** La *TVA* est un impôt indirect payé par le consommateur sur tout produit acheté. En France, le taux normal de *TVA* est de $20 %$.\n",
    "Ainsi, sur un prix *HT* (**h**ors **t**axe) de 300 euros:\n",
    "* la *TVA* sera de: $\\frac{20}{100}\\times 300 = 60$ euros\n",
    "\n",
    "\n",
    "* le prix *TTC* ( **t**outes **t**axes **c**omprises) sera de: $300 + 60 = 360$ euros.\n",
    "\n",
    "<br>\n",
    "\n",
    "**Travail:** Ursule a voulu taper le code de la fonction Python, nommée *prix_final*, qui renvoie:\n",
    "* le prix *TTC*\n",
    "* le montant de la *TVA*\n",
    "quand on lui passe comme argument le prix *HT*. Son enseignant a validé les formules qu'il utilise.\n",
    "\n",
    "\n",
    "1. Exécuter le code du cadre ci-dessous. Comme vous pouvez le voir, il ne s'affiche pas 360 et 60. Pourtant, il n'y a aucun message d'erreur !\n",
    "\n",
    "\n",
    "2. Modifier le code d'Ursule pour que la fonction renvoie bien les valeurs 60 et 300"
   ]
  },
  {
   "cell_type": "code",
   "execution_count": null,
   "metadata": {},
   "outputs": [],
   "source": [
    "def prix(ht):\n",
    "    tva = ht * 0.2\n",
    "    ttc = ht + tva\n",
    "\n",
    "prix(200)"
   ]
  },
  {
   "cell_type": "markdown",
   "metadata": {},
   "source": [
    "3. Dans le cadre ci-dessus, remplacer **uniquement** la ligne *prix(300)* par *prix(200)*.<br>\n",
    "Cette fois, il devrait s'afficher 240 et 40.\n",
    "\n",
    "\n",
    "#### Ex 5: Savoir vérifier la structure des blocs\n",
    "Pour **chacun** des cadres suivants:\n",
    "1. Exécuter le code du cadre. Lire le message d'erreur.\n",
    "\n",
    "2. Corriger le code pour qu'il fonctionne."
   ]
  },
  {
   "cell_type": "code",
   "execution_count": null,
   "metadata": {},
   "outputs": [],
   "source": [
    "def toto(a, b):\n",
    "  r = a * b\n",
    "return r\n",
    "\n",
    "toto(16, 2)"
   ]
  },
  {
   "cell_type": "code",
   "execution_count": null,
   "metadata": {},
   "outputs": [],
   "source": [
    "def titi(a, b, c):\n",
    "    d = a + b\n",
    "     e = a + c\n",
    "    return d, e\n",
    "\n",
    "titi(1, 2, 3)"
   ]
  },
  {
   "cell_type": "code",
   "execution_count": null,
   "metadata": {},
   "outputs": [],
   "source": [
    "def tata(a, b)\n",
    "  g = a + 2 * b\n",
    "  return g\n",
    "\n",
    "tata(10, 20)"
   ]
  },
  {
   "cell_type": "code",
   "execution_count": null,
   "metadata": {},
   "outputs": [],
   "source": [
    "def tutu(p)\n",
    "r = 5 * p\n",
    "return r\n",
    "\n",
    "tutu(12)"
   ]
  },
  {
   "cell_type": "code",
   "execution_count": null,
   "metadata": {},
   "outputs": [],
   "source": [
    "from math import *\n",
    "from random import *\n",
    "\n",
    " def tete():\n",
    "   x = randint(0, 180) * pi / 180\n",
    "   y = cos(x)\n",
    "   return y\n",
    "\n",
    " tete()"
   ]
  },
  {
   "cell_type": "markdown",
   "metadata": {},
   "source": [
    "#### Ex 6: Savoir écrire une fonction Python\n",
    "1. Ecrire une fonction Python, nommée *rectangle* qui calcule le périmètre, l'aire et la longueur des diagonales d'un rectangle.\n",
    "\n",
    "\n",
    "2. Sur votre feuille de papier, calculer:\n",
    "   * le périmètre, l'aire et une valeur approchée de la longueur des diagonales d'un rectangle de dimension 4 sur 3\n",
    "   * le périmètre, l'aire et une valeur approchée de la longueur des diagonales d'un carré de côté 4\n",
    "\n",
    "\n",
    "3. Tester votre fonction avec le jeu de valeurs ci-dessus<br>\n",
    "Quand on écrit une fonction informatique, il est important de bien la <span style=\"color:red; font-style:italic; font-weight:500\">tester avec plusieurs jeux de valeurs</span>"
   ]
  },
  {
   "cell_type": "code",
   "execution_count": null,
   "metadata": {},
   "outputs": [],
   "source": [
    "\n",
    "\n"
   ]
  }
 ],
 "metadata": {
  "kernelspec": {
   "display_name": "Python 3",
   "language": "python",
   "name": "python3"
  },
  "language_info": {
   "codemirror_mode": {
    "name": "ipython",
    "version": 3
   },
   "file_extension": ".py",
   "mimetype": "text/x-python",
   "name": "python",
   "nbconvert_exporter": "python",
   "pygments_lexer": "ipython3",
   "version": "3.7.6"
  }
 },
 "nbformat": 4,
 "nbformat_minor": 2
}
