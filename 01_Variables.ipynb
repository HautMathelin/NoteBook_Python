{
 "cells": [
  {
   "cell_type": "markdown",
   "metadata": {},
   "source": [
    "# Chapitre 1: Variables"
   ]
  },
  {
   "cell_type": "markdown",
   "metadata": {},
   "source": [
    "## 1. Notion de variables\n",
    "\n",
    "### a. Une définition \n",
    "Une **variable** est une zone de la mémoire de l'ordinateur:\n",
    "* dans laquelle une **valeur** est stockée\n",
    "* auquelle on a donné un **nom** pour pouvoir la retrouver\n",
    "\n",
    "\n",
    "La mémoire où sont stockée les variables peut être vue comme un bloc de 'tiroirs'.\n",
    "Ainsi, la variable *toto* peut être pensée comme un 'tiroir':\n",
    "* dans lequel on stocke une **valeur**\n",
    "* sur lequel on colle une étiquette avec un **nom** pour pouvoir la retrouver"
   ]
  },
  {
   "cell_type": "markdown",
   "metadata": {},
   "source": [
    "### c. Le nom des variables"
   ]
  },
  {
   "cell_type": "markdown",
   "metadata": {},
   "source": [
    "Un nom de variable:\n",
    "- commence forcément par une lettre \n",
    "- éventuellement suivie de lettres ou de chiffres ou du caractère de soulignement (underscore) _\n",
    "\n",
    "Attention, les minuscules et les majuscules sont différenciées.\n",
    "\n",
    "L'usage veut que l'on utilise des minuscules. \n",
    "On n'utilise pas de lettre accentuée: leur codage dépend du *jeux de caractères* utilisé."
   ]
  },
  {
   "cell_type": "markdown",
   "metadata": {},
   "source": [
    "## 2. Affecter une valeur à une variable\n",
    "### a. L'affectation\n",
    "En *Python*, c'est le symbole = qui sert pour affecter une valeur à une variable. Pour cela:\n",
    "* il détermine la valeur de la partie à droite du signe =\n",
    "* **puis** il affecte le résultat à la variable dont le nom est à gauche du signe =\n",
    "\n",
    "\n",
    "### c. Exemple\n",
    "La ligne de code suivante\n",
    "* effectue le calcul de $312\\times 18$\n",
    "* **puis** range le résultat dans la variable nommée *toto*\n",
    "<p style=\"text-align:left; background: lightyellow ; border: 1px solid #999; margin: 10px 0 ; padding: 10px ; width:20%\">\n",
    "toto = 312 * 18\n",
    "</p>\n",
    "\n",
    "### d. Afficher à l'écran le contenu d'une variable\n",
    "Pour afficher à l'écran, on utilise l'instruction *print*\n",
    "\n",
    "Le code ci-dessous affecte la valeur 17 à la variable nommée *rep* (première ligne)\n",
    "Puis affiche à l'écran son double.\n",
    "\n",
    "Pour exécuter ces lignes de code:\n",
    "* sélectionner le cadre en cliquant dedans avec la souris\n",
    "* puis appuyer sur le bouton *Exécuter* tout en haut de la page"
   ]
  },
  {
   "cell_type": "code",
   "execution_count": null,
   "metadata": {},
   "outputs": [],
   "source": [
    "rep = 17\n",
    "print(2 * rep)"
   ]
  },
  {
   "cell_type": "markdown",
   "metadata": {},
   "source": [
    "\n",
    "### e. Exercice\n",
    "Pour chacun des 6 cadres suivants, \n",
    "\n",
    "1. Dire si le nom de la variable est correct.\n",
    "\n",
    "\n",
    "2. Se vérifier. Pour cela, sélectionner le cadre en cliquant dedans puis appuyer sur le bouton *Exécuter* tout en haut de la page.\n",
    "  * si le nom de variable est incorrect, vous obtiendrez l'erreur *SyntaxError: can't assign to operator*<br>\n",
    "  * si le nom de variable est correct, la valeur 12 va s'afficher sous le cadre"
   ]
  },
  {
   "cell_type": "code",
   "execution_count": null,
   "metadata": {},
   "outputs": [],
   "source": [
    "x = 12\n",
    "print(x)"
   ]
  },
  {
   "cell_type": "code",
   "execution_count": null,
   "metadata": {},
   "outputs": [],
   "source": [
    "temps_limite = 12\n",
    "print(temps_limite)"
   ]
  },
  {
   "cell_type": "code",
   "execution_count": null,
   "metadata": {},
   "outputs": [],
   "source": [
    "2v = 12\n",
    "print(2v)"
   ]
  },
  {
   "cell_type": "code",
   "execution_count": null,
   "metadata": {},
   "outputs": [],
   "source": [
    "temps-limite = 12\n",
    "print(temps limite)"
   ]
  },
  {
   "cell_type": "code",
   "execution_count": null,
   "metadata": {},
   "outputs": [],
   "source": [
    "v2 = 12\n",
    "print(v2)"
   ]
  },
  {
   "cell_type": "code",
   "execution_count": null,
   "metadata": {},
   "outputs": [],
   "source": [
    "temps limite = 12\n",
    "print(temps limite)"
   ]
  },
  {
   "cell_type": "markdown",
   "metadata": {},
   "source": [
    "### f. Nécessité d'initialiser une variable avant de l'utiliser\n",
    "Initialiser une variable consiste à lui donner une première valeur.\n",
    "\n",
    "\n",
    "1. Faire exécuter le code du cadre ci-dessous. Pour cela\n",
    "   * sélectionner le cadre en cliquant dedans avec la souris\n",
    "   * puis appuyer sur le bouton *Exécuter* tout en haut de la page\n",
    "\n",
    "\n",
    "2. Vous avez obtenu l'erreur *NameError: name 'prix' is not defined* car vous avez tenté d'utiliser la variable *prix* qui n'a jamais reçu de valeur: elle est inconnue.\n",
    "\n",
    "\n",
    "3. Sur la première ligne, ajouter le code <span style=\"text-align:left; background: lightyellow ; border: 1px solid #999; margin: 10px 0 ; padding: 10px ; width:20%\">prix = 100</span> pour initialiser la variable *prix* avec la valeur 100\n",
    "\n",
    "\n",
    "4. Ré-exécuter le code. La valeur 100 devrait s'afficher."
   ]
  },
  {
   "cell_type": "code",
   "execution_count": null,
   "metadata": {},
   "outputs": [],
   "source": [
    "prix = 100 # cette ligne était manquante: cela provoquait l'erreur \n",
    "print(prix)"
   ]
  },
  {
   "cell_type": "markdown",
   "metadata": {},
   "source": [
    "# 2. Modifier la valeur d'une variable\n",
    "## a. Principe\n",
    "Pour modifier la valeur d'une variable, il suffit de lui ré-affecter une nouvelle valeur: l'ancienne valeur est alors perdue.\n",
    "\n",
    "\n",
    "## b. Exemple\n",
    "<p style=\"text-align:left; background: lightyellow ; border: 1px solid #999; margin: 10px 0 ; padding: 10px ; width:20%\">\n",
    "a = 3<br>\n",
    "b = 5<br>\n",
    "a = 2 * b\n",
    "</p>\n",
    "\n",
    "- la première ligne *a = 3* affecte la valeur 3 à la variable *a*\n",
    "\n",
    "\n",
    "- la deuxième ligne *b = 5* affecte la valeur 5 à la variable *b*\n",
    "\n",
    "\n",
    "- la troisième ligne *a = 2 * b* calcule le résultat de la formule $\\quad 2\\times b \\quad$   pour $b$ valant 5<br> **puis** range le résultat dans la variable *a*<br>L'ancienne valeur 5 est perdue: maintenant *a* contient 10\n",
    "\n",
    "\n",
    "## c. Exercice\n",
    "Pour chacun des cadres suivants:\n",
    "1. Dire quelle valeur va s'afficher à l'écran ?\n",
    "\n",
    "\n",
    "2. Se vérifier ensuite en exécutant le code du cadre. Pour cela, sélectionner le cadre en cliquant dedans puis appuyer sur le bouton *Exécuter* tout en haut de la page."
   ]
  },
  {
   "cell_type": "code",
   "execution_count": null,
   "metadata": {},
   "outputs": [],
   "source": [
    "a = 20\n",
    "c = 15 + 2 * a\n",
    "a = 3 + c\n",
    "print(a)"
   ]
  },
  {
   "cell_type": "code",
   "execution_count": null,
   "metadata": {},
   "outputs": [],
   "source": [
    "a = 20\n",
    "b = 10\n",
    "print(a)\n",
    "a = 3 + b"
   ]
  },
  {
   "cell_type": "code",
   "execution_count": null,
   "metadata": {},
   "outputs": [],
   "source": [
    "a = 10\n",
    "a = a + 5\n",
    "print(a)"
   ]
  },
  {
   "cell_type": "code",
   "execution_count": null,
   "metadata": {},
   "outputs": [],
   "source": [
    "a = 7\n",
    "b = 5\n",
    "c = a * b\n",
    "b = c + 1\n",
    "a = b\n",
    "print(a, b, c)"
   ]
  },
  {
   "cell_type": "markdown",
   "metadata": {},
   "source": [
    "## 3. Savoir-faire attendus\n",
    "### a. Savoir répondre aux questions suivantes:\n",
    "1. Qu'est une variable ?\n",
    "2. Comment mettre une valeur dans une variable ?\n",
    "3. A quoi sert l'instruction *print* ?\n",
    "4. Que fait l'instruction Python:   *toto = 3 + a*\n",
    "5. Que fait l'instruction Python:   *q = q + 2* ? \n",
    "\n",
    "### b. Savoir faire\n",
    "Dans le cadre ci-dessous, écrire dans les l'ordre les instructions de code *Python* pour \n",
    "* affecter 10 à la variable *albert*\n",
    "* initialiser la variable *einstein* à 5\n",
    "* multiplier par 2 le contenu de *albert*\n",
    "* ajouter 1 au contenu de *einstien*\n",
    "* mettre dans la variable *snt* la somme des valeurs contenues dans *albert* et *einstein*\n",
    "* faire afficher les trois variables\n",
    "\n",
    "Tester votre code en appuyant simultanément sur les touches 'Shift' et 'Enter'.\n",
    "Les trois valeurs sont-elles bien celles attendues ?\n",
    "\n",
    "Si dans votre première ligne **seulement**, vous remplacez 10 par 4, après exécution, avez-vous bien 8 6 14 qui s'affiche ?"
   ]
  },
  {
   "cell_type": "code",
   "execution_count": null,
   "metadata": {},
   "outputs": [],
   "source": [
    "\n",
    "\n",
    "\n"
   ]
  }
 ],
 "metadata": {
  "celltoolbar": "Aucun(e)",
  "kernelspec": {
   "display_name": "Python 3",
   "language": "python",
   "name": "python3"
  },
  "language_info": {
   "codemirror_mode": {
    "name": "ipython",
    "version": 3
   },
   "file_extension": ".py",
   "mimetype": "text/x-python",
   "name": "python",
   "nbconvert_exporter": "python",
   "pygments_lexer": "ipython3",
   "version": "3.7.6"
  }
 },
 "nbformat": 4,
 "nbformat_minor": 2
}
