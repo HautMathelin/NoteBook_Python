{
 "cells": [
  {
   "cell_type": "markdown",
   "metadata": {},
   "source": [
    "# Chapitre 6: L'alternative \"si ... alors ...\""
   ]
  },
  {
   "cell_type": "markdown",
   "metadata": {},
   "source": [
    "## 1. Introduction\n",
    "\n",
    "### a. Instructions conditionnelles\n",
    "Les lignes d'un bloc de code sont exécutées l'une après l'autre dans l'ordre où elles ont été écrites.\n",
    "\n",
    "\n",
    "Les instructions conditionnelles permettent de:\n",
    "* tester si <strong>une condition est vraie ou non</strong>. L'évaluation de la condition renvoie un <em>booléen</em>: soit <em>True</em>, soit <em>False</em>\n",
    "* <strong>suivant le résultat du test</strong>, elles aiguilles le pointeur d'instruction vers telle ou telle ligne de code.\n",
    "\n",
    "Ainsi les instructions conditionnelles permettent d'agir sur l'enchainement d'éxécution des lignes de code. Nous utiliserons les instructions:\n",
    "* \"si ... alors ...\", \"si ... alors ... sinon ...\", \"si...alors...sinon si.... sinon si ... sinon...\"\n",
    "* \"tant que ...\"\n",
    "* \"pour ... faire ...\" \n",
    "\n",
    "\n",
    "### b. Des tests (par coeur)\n",
    "<table>\n",
    "<tr>\n",
    "<td align=\"left\"> x > y </td>\n",
    "<td align=\"left\"> Teste si x est supérieur à y et renvoi True dans ce cas et False sinon</td>\n",
    "</tr>\n",
    "<tr>\n",
    "<td align=\"left\"> x >= y </td>\n",
    "<td align=\"left\"> Teste si x est supérieur ou égal à y et renvoi True dans ce cas et False sinon </td>\n",
    "</tr>\n",
    "<tr>\n",
    "<td align=\"left\"> x < y </td>\n",
    "<td align=\"left\"> Teste si x est inférieur à y et renvoi True dans ce cas et False sinon </td>\n",
    "</tr>\n",
    "<tr>\n",
    "<td align=\"left\"> x <= y </td>\n",
    "<td align=\"left\"> Teste si x est inférieur ou égal à y et renvoi True dans ce cas et False sinon </td>\n",
    "</tr>\n",
    "<tr>\n",
    "<td align=\"left\"> x == y </td>\n",
    "<td align=\"left\"> Teste si x est égal à y et renvoi True dans ce cas et False sinon </td>\n",
    "</tr>\n",
    "<tr>\n",
    "<td align=\"left\"> x != y </td>\n",
    "<td align=\"left\"> Teste si x est différent à y et renvoi True dans ce cas et False sinon </td>\n",
    "</tr>\n",
    "</table>\n",
    "\n",
    "\n",
    "\n",
    "## 2. L'instruction \"si ... alors ...\" \n",
    "### a. Explication\n",
    "L'instruction Python *if ...condition... :* permet d'exécuter un bloc d'instruction seulement si une condition est vraie.\n",
    "\n",
    "Ce bloc est décalé (avec des espaces) sous la ligne du *if* qui elle même se termine par deux-points (anonce de début de bloc).\n",
    "\n",
    "### b. Exemple avec la condition renvoyant *True*\n",
    "1. Deviner ce que va afficher le code ci-dessous.\n",
    "\n",
    "\n",
    "2. L'exécuter pour se vérifier"
   ]
  },
  {
   "cell_type": "code",
   "execution_count": null,
   "metadata": {},
   "outputs": [],
   "source": [
    "toto = 5\n",
    "\n",
    "if toto < 10 :\n",
    "    toto = toto + 1\n",
    "print(toto)"
   ]
  },
  {
   "cell_type": "markdown",
   "metadata": {},
   "source": [
    "#### Commentaires\n",
    "Comme la valeur de la variable *toto* est inférieure à 10, la ligne *toto = toto + 1* est exécutée.\n",
    "\n",
    "La ligne *print(toto)* ne fait pas partie du bloc concerné par le *if* puisqu'elle n'est pas décalée: quelle que soit la valeur de *toto* cette ligne sera exécutée.\n",
    "\n",
    "Vous remarquerez les deux-points en fin de la ligne *if* pour annoncer le bloc exécuté seulement si la condition renvoie True."
   ]
  },
  {
   "cell_type": "markdown",
   "metadata": {},
   "source": [
    "### c Exemple d'exécution avec la condition valant *False*\n",
    "1. Deviner ce que va afficher le code ci-dessous.\n",
    "\n",
    "\n",
    "2. L'exécuter pour se vérifier"
   ]
  },
  {
   "cell_type": "code",
   "execution_count": null,
   "metadata": {},
   "outputs": [],
   "source": [
    "toto = 20\n",
    "\n",
    "if toto < 10 :\n",
    "    toto = toto + 1\n",
    "print(toto)"
   ]
  },
  {
   "cell_type": "markdown",
   "metadata": {},
   "source": [
    "#### Commentaire\n",
    "Comme la valeur de la variable *toto* n'est pas inférieure à 10, la ligne *toto = toto + 1* n'est pas exécutée.\n",
    "\n",
    "La ligne *print(toto)* ne fait pas partie du bloc concerné par le *if* puisqu'elle n'est pas décalée: quelle que soit la valeur de *toto* cette ligne sera exécutée."
   ]
  },
  {
   "cell_type": "markdown",
   "metadata": {},
   "source": [
    "## 3. L'instruction \"si ... alors ... sinon ...\"\n",
    "### a. Explication\n",
    "#### Syntaxe\n",
    "if <em>une condition</em> :<br>\n",
    "    &nbsp;&nbsp;&nbsp; bloc exécuté quand la condition est <em>True</em><br>\n",
    "else:<br>\n",
    "    &nbsp;&nbsp;&nbsp; bloc exécuté quand la condition est <em>False</em>\n",
    "    \n",
    "    \n",
    "Les instructions non décalées situées dessous sont exécutées dans tous les cas.\n",
    "\n",
    "\n",
    "#### A l'exécution\n",
    "La contition du **if** est testée\n",
    "* si le résultat du test est *True*, le bloc décalé après la ligne commençant par **if** est exécutée\n",
    "\n",
    "\n",
    "* sinon le bloc décalé après la ligne **else:** est exécuté\n",
    "\n",
    "\n",
    "### b. Exemple d'exécution avec la condition valant *True*:\n",
    "1. Deviner ce que va afficher le code ci-dessous.\n",
    "\n",
    "\n",
    "2. L'exécuter pour se vérifier"
   ]
  },
  {
   "cell_type": "code",
   "execution_count": null,
   "metadata": {},
   "outputs": [],
   "source": [
    "toto = 10\n",
    "\n",
    "if toto <= 10:\n",
    "    print(\"plus petit ou égal à 10\")\n",
    "else:\n",
    "    print(\"plus grand que 10\")\n",
    "print(toto)"
   ]
  },
  {
   "cell_type": "markdown",
   "metadata": {},
   "source": [
    "#### Commentaires\n",
    "Comme la valeur de la variable *toto* est inférieure à 10, la ligne *print(\"plus petit ou égal à 10\")* est exécutée.\n",
    "\n",
    "La ligne *print(toto)* ne fait pas partie du bloc concerné ni par le **if** et ni par le **else** puisqu'elle n'est pas décalée: quelle que soit la valeur de *toto* cette ligne sera exécutée.\n",
    "\n",
    "Vous remarquerez les deux-points \n",
    "* en fin de la ligne **if** pour annoncer le bloc exécuté seulement si la condition renvoie *True*.\n",
    "* en fin de la ligne **else** pour annoncer le bloc exécuté seulement si la condition renvoie *False*\n",
    "\n",
    "\n",
    "    \n",
    "### c. Exemple d'exécution avec la condition valant *False*:\n",
    "1. Deviner ce que va afficher le code ci-dessous.\n",
    "\n",
    "\n",
    "2. L'exécuter pour se vérifier"
   ]
  },
  {
   "cell_type": "code",
   "execution_count": null,
   "metadata": {},
   "outputs": [],
   "source": [
    "toto = 20\n",
    "\n",
    "if toto <= 10:\n",
    "    print(\"plus petit ou égal à 10\")\n",
    "else:\n",
    "    print(\"plus grand que 10\")\n",
    "print(toto)"
   ]
  },
  {
   "cell_type": "markdown",
   "metadata": {},
   "source": [
    "#### Commentaires\n",
    "Comme la valeur de la variable *toto* n'est pas inférieure ou égale à 10, le bloc après le **else:** est exécutée.\n",
    "C'est la ligne *print(\"plus grand que 10\")* "
   ]
  },
  {
   "cell_type": "markdown",
   "metadata": {},
   "source": [
    "## 4. L'instruction *elif*\n",
    "### a: Explication\n",
    "*if … elif … else*, qui veut dire littéralement « si…sinon si…sinon », permet de trouver le cas adéquat parmi toute une série.\n",
    "\n",
    "\n",
    "Le *elif* introduit un nouveau cas à tester si tous les cas précédents ne conviennent pas.\n",
    "\n",
    "\n",
    "Dès qu'un cas convient, les suivants ne sont pas examinés !\n",
    "\n",
    "\n",
    "Le dernier *else* (sans *if*) est le cas appliqué en désespoir de cause.\n",
    "\n",
    "\n",
    "### b. Exemple\n",
    "#### Préliminaire\n",
    "Exécuter le code du cadre ci-dessous pour que l'interpréteur Python référence la fonction *des_cas*"
   ]
  },
  {
   "cell_type": "code",
   "execution_count": null,
   "metadata": {},
   "outputs": [],
   "source": [
    "def des_cas(a):\n",
    "    if a == 2:\n",
    "        b = 1\n",
    "    elif a == 3:\n",
    "        b = 2\n",
    "    elif a == 4:\n",
    "        b = 3\n",
    "    elif a < 20:\n",
    "        b == 5\n",
    "    else:\n",
    "        b == 6\n",
    "    print(b)"
   ]
  },
  {
   "cell_type": "markdown",
   "metadata": {},
   "source": [
    "#### A faire\n",
    "Dans le cadre ci-dessous:\n",
    "* après avoir deviné ce qui va s'afficher, exécuter *des_cas(3)*\n",
    "* **puis** recommencer avec *des_cas(10)*\n",
    "* **puis** recommencer avec *des_cas(25)*"
   ]
  },
  {
   "cell_type": "code",
   "execution_count": null,
   "metadata": {},
   "outputs": [],
   "source": []
  },
  {
   "cell_type": "markdown",
   "metadata": {},
   "source": [
    "## 5. Savoir-faire attendus\n",
    "### a. Savoir simuler le fonctionnement d'un programme\n",
    "#### Exercice 1\n",
    "##### Préliminaire\n",
    "Exécuter le code du cadre ci-dessous pour que la console Python référence la fonction *titi*\n",
    "\n",
    "Si vous le faites pas, vous obtiendrez le message *NameError: name 'titi' is not defined* en vérifiant vos réponses."
   ]
  },
  {
   "cell_type": "code",
   "execution_count": null,
   "metadata": {},
   "outputs": [],
   "source": [
    "def titi(a):\n",
    "    if a <= 5:\n",
    "        a = a + 1\n",
    "        a = 2 * a\n",
    "    else:\n",
    "        a = 2\n",
    "    a = a + 100\n",
    "    print(a)"
   ]
  },
  {
   "cell_type": "markdown",
   "metadata": {},
   "source": [
    "##### Questions\n",
    "1. Dans le cadre ci-dessous, on va taper *titi(4)*. \n",
    "\n",
    "   a. Deviner ce qui va s'afficher\n",
    "   \n",
    "   b. **Ensuite**, faites-le pour vérifier votre réponse\n",
    "   \n",
    "   \n",
    "2. Recommencer avec *titi(10)*: deviner **puis** tester !\n",
    "\n",
    "\n",
    "3. Recommencer une denière fois avec *titi(5)*"
   ]
  },
  {
   "cell_type": "code",
   "execution_count": null,
   "metadata": {},
   "outputs": [],
   "source": [
    "titi(10)"
   ]
  },
  {
   "cell_type": "markdown",
   "metadata": {},
   "source": [
    "####  Exercice 2\n",
    "##### Préliminaire\n",
    "Exécuter le code du cadre ci-dessous pour que la console Python référence la fonction *tata*"
   ]
  },
  {
   "cell_type": "code",
   "execution_count": null,
   "metadata": {},
   "outputs": [],
   "source": [
    "def tata(a):\n",
    "    if a > 100:\n",
    "        a = a - 50\n",
    "        if a < 80:\n",
    "            a = 9\n",
    "        else:\n",
    "            a = 0\n",
    "    else:\n",
    "        a = 5\n",
    "    print(a)"
   ]
  },
  {
   "cell_type": "markdown",
   "metadata": {},
   "source": [
    "##### Questions\n",
    "1. Dans le cadre ci-dessous, on va taper *tata(4)*. \n",
    "\n",
    "   a. Deviner ce qui va s'afficher\n",
    "   \n",
    "   b. **Ensuite**, faites-le exécuter pour vérifier votre réponse\n",
    "   \n",
    "   \n",
    "2. Recommencer avec *tata(200)*: deviner **puis** tester !\n",
    "\n",
    "\n",
    "3. Recommencer avec *tata(110)*"
   ]
  },
  {
   "cell_type": "code",
   "execution_count": null,
   "metadata": {},
   "outputs": [],
   "source": []
  },
  {
   "cell_type": "markdown",
   "metadata": {},
   "source": [
    "#### Exercice 3\n",
    "##### Préliminaire\n",
    "Exécuter le code du cadre ci-dessous pour que la console Python référence la fonction *toto*"
   ]
  },
  {
   "cell_type": "code",
   "execution_count": null,
   "metadata": {},
   "outputs": [],
   "source": [
    "def toto(a):\n",
    "    if a > 20:\n",
    "        if a > 30:\n",
    "            a = 2\n",
    "        else:\n",
    "            a = 3\n",
    "    print(a)"
   ]
  },
  {
   "cell_type": "markdown",
   "metadata": {},
   "source": [
    "##### Questions\n",
    "1. Dans le cadre ci-dessous, on va taper *toto(30)*. \n",
    "\n",
    "   a. Deviner ce qui va s'afficher\n",
    "   \n",
    "   b. **Ensuite**, faites-le exécuter pour vérifier votre réponse\n",
    "   \n",
    "   \n",
    "2. Recommencer avec *toto(10)*: deviner **puis** tester !\n",
    "\n",
    "\n",
    "3. Recommencer avec *toto(100)*"
   ]
  },
  {
   "cell_type": "markdown",
   "metadata": {},
   "source": [
    "#### Exercice 4\n",
    "##### Préliminaire\n",
    "Exécuter le code du cadre ci-dessous pour que la console Python référence la fonction *tutu*"
   ]
  },
  {
   "cell_type": "code",
   "execution_count": null,
   "metadata": {},
   "outputs": [],
   "source": [
    "def tutu(a):\n",
    "    if a > 20:\n",
    "        if a > 30:\n",
    "            a = 2\n",
    "    else:\n",
    "        a = 3\n",
    "    print(a)"
   ]
  },
  {
   "cell_type": "markdown",
   "metadata": {},
   "source": [
    "##### Questions\n",
    "1. Dans le cadre ci-dessous, on va taper *tutu(30)*. \n",
    "\n",
    "   a. Deviner ce qui va s'afficher\n",
    "   \n",
    "   b. **Ensuite**, faites-le exécuter pour vérifier votre réponse\n",
    "   \n",
    "   \n",
    "2. Recommencer avec *tutu(10)*: deviner **puis** tester !\n",
    "\n",
    "\n",
    "3. Recommencer avec *tutu(100)*"
   ]
  },
  {
   "cell_type": "code",
   "execution_count": null,
   "metadata": {},
   "outputs": [],
   "source": []
  },
  {
   "cell_type": "markdown",
   "metadata": {},
   "source": [
    "### b. Savoir écrire une fonction Pyhon simple utilisant *if*\n",
    "#### Exercice: fonctions mathématiques définies par morceaux\n",
    "On considére la fonction mathématique $g$ définie par: \n",
    "$ \\quad g(x) = \\left \\{\n",
    "\\begin{array}{c @{=} c}\n",
    "    3x+5 & \\text{si } x\\le 1 \\\\\n",
    "    -x+9 & \\text{si } x\\ge 1 \\\\\n",
    "\\end{array}\n",
    "\\right.\n",
    "$\n",
    "\n",
    "Ecrire une fonction Python nommée *image* qui renvoie l'image d'un réel"
   ]
  },
  {
   "cell_type": "code",
   "execution_count": null,
   "metadata": {},
   "outputs": [],
   "source": []
  },
  {
   "cell_type": "markdown",
   "metadata": {},
   "source": [
    "#### Exercice: parité\n",
    "Ecrire une fonction Python, nommée *parite* qui\n",
    "* prend en paramètre un entier\n",
    "* renvoie *True* si l'entier est pair et *False* si l'entier est impair."
   ]
  },
  {
   "cell_type": "code",
   "execution_count": null,
   "metadata": {},
   "outputs": [],
   "source": []
  }
 ],
 "metadata": {
  "kernelspec": {
   "display_name": "Python 3",
   "language": "python",
   "name": "python3"
  },
  "language_info": {
   "codemirror_mode": {
    "name": "ipython",
    "version": 3
   },
   "file_extension": ".py",
   "mimetype": "text/x-python",
   "name": "python",
   "nbconvert_exporter": "python",
   "pygments_lexer": "ipython3",
   "version": "3.7.6"
  }
 },
 "nbformat": 4,
 "nbformat_minor": 2
}
