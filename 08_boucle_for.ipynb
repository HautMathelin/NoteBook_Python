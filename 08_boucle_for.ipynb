{
 "cells": [
  {
   "cell_type": "markdown",
   "metadata": {},
   "source": [
    "# Chapitre 8: Les boucles *for*"
   ]
  },
  {
   "cell_type": "markdown",
   "metadata": {},
   "source": [
    "## 1. Introduction\n",
    "Les boucles vont nous permettre d’exécuter plusieurs fois un même bloc d’instruction. Nous utiliserons deux types de boucles. \n",
    "\n",
    "* En Python, les *boucles for* permettent d’itérer (répéter plusieurs fois) sur les éléments d’une liste.<br>\n",
    "Ces boucles sont dites **bornées** car on connait à l'avance le nombre de répétitions\n",
    "\n",
    "\n",
    "* Les boucles *while*  Elles permettent de répéter un bloc d’instruction **tant qu'une condition est satisfaite**.<br>\n",
    "Ces boucles sont dites **non bornées**.\n",
    "\n",
    "\n",
    "## 2. Exemples de boucles *for* itérant sur des listes\n",
    "\n",
    "### a. Premier exemple\n",
    "#### Enoncé\n",
    "Faire exécuter le code ci-dessous."
   ]
  },
  {
   "cell_type": "code",
   "execution_count": 1,
   "metadata": {},
   "outputs": [],
   "source": [
    "for p in [1, 2, 4, 9]:\n",
    "    a = 2 * p\n",
    "    print(\"un nombre\", p, \"son double\", a)"
   ]
  },
  {
   "cell_type": "markdown",
   "metadata": {},
   "source": [
    "#### Rappel\n",
    "En Python [1, 2, 4, 9] désigne une liste\n",
    "\n",
    "\n",
    "#### Commentaires\n",
    "La ligne *for p in [1, 2, 4, 9]:* peut s'interpéter ainsi<br>\n",
    "\"**pour** p valant successivement 1 puis 2 puis 4 puis 9 **répéter** le bloc d'instructions décalées déssous \n",
    "\n",
    "\n",
    "<br>\n",
    "Le bloc sur lequel s'applique la répétition:\n",
    "\n",
    "* débute après les deux-points de la ligne *for ...*\n",
    "\n",
    "\n",
    "* ce bloc comporte deux lignes\n",
    "  * la ligne *a = 2 * p* calcule le double de la valeur de *p* et le range dans la variable dans *a*\n",
    "  * la ligne *print(\"un nombre\", p, \"son double\", 2*p)* affiche le texte qui apparait à l'écran\n",
    " \n",
    "On observe bien que les lignes du bloc, sont exécutées 4 fois en **adaptant à chaque itération la valeur de p**\n",
    "\n",
    "\n",
    "### b. Deuxième exemple\n",
    "Dans le cadre ci-dessous, écrire le code qui permettra d'afficher\n",
    "\n",
    "x = 2 son carré 4<br>\n",
    "x = 5 son carré 25<br>\n",
    "x = 10 son carré 100<br>\n",
    "x = 50 son carré 2500<br>\n",
    "x = 100 son carré 10000<br>"
   ]
  },
  {
   "cell_type": "code",
   "execution_count": null,
   "metadata": {},
   "outputs": [],
   "source": [
    "\n",
    "\n",
    "\n"
   ]
  },
  {
   "cell_type": "markdown",
   "metadata": {},
   "source": [
    "###  c. Troisième exemple\n",
    "\n",
    "#### Enoncé\n",
    "1. Anticiper (donc sans exécuter) ce que va afficher le code du cadre ci-dessous.\n",
    "\n",
    "\n",
    "2. Exécuter le cadre pour vous vérifier."
   ]
  },
  {
   "cell_type": "code",
   "execution_count": 2,
   "metadata": {},
   "outputs": [],
   "source": [
    "s = 0\n",
    "for k in [2, 4, 6, 8, 10]:\n",
    "    s = s + k\n",
    "print(s)"
   ]
  },
  {
   "cell_type": "markdown",
   "metadata": {},
   "source": [
    "#### Devinette\n",
    "Que fait le code ci-dessus ?\n",
    "\n",
    "Pour vous corriger, exécuter le code ci-dessous."
   ]
  },
  {
   "cell_type": "code",
   "execution_count": 3,
   "metadata": {},
   "outputs": [],
   "source": [
    "# Ne pas modifier ce cadre\n",
    "from rep_boucles import *\n",
    "print(for_somme())"
   ]
  },
  {
   "cell_type": "markdown",
   "metadata": {},
   "source": [
    "## 3. Un incontournable:  *for ... in range(...):*\n",
    "\n",
    "### a. Enjeu\n",
    "Dans l'exemple précédent, on calcule la somme  $0+2+4+6+8+10$\n",
    "\n",
    "Mais imaginons que nous voulions la somme 5 + 8 + 11 + 14 + 17 20 + 23 + 26 + ... + 992 + 995 + 998.\n",
    "La liste des valeurs de la boucle *for* va devenir très longue à taper.\n",
    "\n",
    "### b. Une manière de s'en sortir\n",
    "On peut cependant remarquer que :\n",
    "* la liste commence à 5\n",
    "* les nombres qu'elle contient vont de 3 en 3\n",
    "* la boucle s'arrête juste **avant** que le nombre atteigne 1000\n",
    "\n",
    "Exécuter le code ci-dessous:"
   ]
  },
  {
   "cell_type": "code",
   "execution_count": 4,
   "metadata": {},
   "outputs": [],
   "source": [
    "s = 0\n",
    "for k in range(5, 999, 3):\n",
    "    s = s + k\n",
    "print(s)"
   ]
  },
  {
   "cell_type": "markdown",
   "metadata": {},
   "source": [
    "### c. La fonction Python *range*\n",
    "<span style=\"text-align:left; background: lightyellow ; border: 1px solid #999; margin: 5px 0 ; padding: 5px ; width:10%\">range(5, 999, 3)</span> retourne une séquence de nombres:\n",
    "* commençant à 5\n",
    "* allant de 3 en 3\n",
    "* ces nombres sont **strictement** inférieurs à 1000 (attention, le \"strictement\" est une spécificité de Python)\n",
    "\n",
    "### d. Un exemple\n",
    "1. Anticiper (donc sans exécuter) ce que va afficher le code du cadre ci-dessous.\n",
    "\n",
    "\n",
    "2. Exécuter le cadre pour vous vérifier"
   ]
  },
  {
   "cell_type": "code",
   "execution_count": 7,
   "metadata": {},
   "outputs": [
    {
     "name": "stdout",
     "output_type": "stream",
     "text": [
      "7\n",
      "11\n",
      "15\n",
      "19\n",
      "23\n",
      "27\n"
     ]
    }
   ],
   "source": [
    "for n in range(7, 31, 4):\n",
    "    print(n)"
   ]
  },
  {
   "cell_type": "markdown",
   "metadata": {},
   "source": [
    "### e. Cas particuliers\n",
    "#### Les nombres vont de 1 en 1\n",
    "Pour exécuter une boucle *for* où la variable *t* prend successivement les valeurs 8, 9, 10, 11, 12\n",
    "On peut écrire simplement <span style=\"text-align:left; background: lightyellow ; border: 1px solid #999; margin: 5px 0 ; padding: 5px ; width:10%\">for t in range(8, 13)</span>\n",
    "\n",
    "Rappel: si on veut que la valeur 12 soit prise, il faut mettre 13 pour avoir des nombres entiers **strictement** inférieurs à 13\n",
    "\n",
    "#### Les nombres commencent à 0 et vont de 1 en 1\n",
    "Pour exécuter une boucle *for* où la variable *g* prend successivement les valeurs 0, 1, 2, 3, 4, 5\n",
    "On peut écrire simplement <span style=\"text-align:left; background: lightyellow ; border: 1px solid #999; margin: 5px 0 ; padding: 5px ; width:10%\">for g in range(6)</span>\n",
    "\n",
    "Rappel: si on veut que la valeur 5 soit prise, il faut mettre 6 pour avoir des nombres entiers **strictement** inférieurs à 6"
   ]
  },
  {
   "cell_type": "markdown",
   "metadata": {},
   "source": [
    "## 4. Exercices\n",
    "### a. Un \"pattern\" (au sens de \"motif répétitif\")\n",
    "Utiliser une boucle *for ... in range(....):* pour faire afficher les **résultats** de:<br>\n",
    "10×18+100<br> \n",
    "10×19+100<br>\n",
    "10×20+100<br>\n",
    "10×21+100<br>\n",
    "10×22+100<br>\n",
    "10×23+100<br>\n",
    "10×24+100<br>\n",
    "10×25+100<br>\n",
    "10×26+100<br>\n",
    "10×27+100<br>\n",
    "10×28+100<br>\n",
    "10×29+100<br>"
   ]
  },
  {
   "cell_type": "code",
   "execution_count": null,
   "metadata": {},
   "outputs": [],
   "source": []
  },
  {
   "cell_type": "markdown",
   "metadata": {},
   "source": [
    "### b. Calculer n!\n",
    "1. Anticiper (donc sans exécuter) ce que va afficher le code du cadre ci-dessous.\n",
    "\n",
    "2. Exécuter le cadre pour vous vérifier."
   ]
  },
  {
   "cell_type": "code",
   "execution_count": 8,
   "metadata": {},
   "outputs": [
    {
     "data": {
      "text/plain": [
       "120"
      ]
     },
     "execution_count": 8,
     "metadata": {},
     "output_type": "execute_result"
    }
   ],
   "source": [
    "def factorielle( n ):\n",
    "    p = 1\n",
    "    for k in range(1, n+1):\n",
    "        p = p * k\n",
    "    return p\n",
    "\n",
    "# Pour tester le code\n",
    "factorielle(5)"
   ]
  },
  {
   "cell_type": "markdown",
   "metadata": {},
   "source": [
    "## 5. Savoir-faire attendus\n",
    "\n",
    "### a. Savoir\n",
    "1. On considère la ligne de code <span style=\"text-align:left; background: lightyellow ; border: 1px solid #999; margin: 5px 0 ; padding: 5px ; width:10%\">for j in range(5, 10):</span> Pour quelles valeurs de *j* la boucle devrait être exécutée ?\n",
    "\n",
    "\n",
    "2. Il existe des différences entre range(2,6) et la liste [2, 3, 4, 5] que nous n’arborerons pas ici.<br>\n",
    "   Mais dans nos utilisations dans les boucles for nous ne nous en rendrons pas compte.<br>\n",
    "   Comment ré-écrire la ligne *for p in [-3, 1, 5, 9, 13, 17, 21, 25]:* en utilisant *range* ?\n",
    "\n",
    "### b. Savoir-faire\n",
    "\n",
    "#### Calculer une somme\n",
    "Ecrire une fonction Python, nommée *somme*, qui retourne la somme $1+2+3+4+...+n$ où *n* est un entier supérieur ou égal à 1."
   ]
  },
  {
   "cell_type": "code",
   "execution_count": null,
   "metadata": {},
   "outputs": [],
   "source": [
    "\n",
    "\n",
    "\n"
   ]
  },
  {
   "cell_type": "markdown",
   "metadata": {},
   "source": [
    "#### Savoir faire exécuter un code à la main\n",
    "Que va afficher le code suivant quand on l'exécute ?\n",
    "\n",
    "<pre style=\"text-align:left; background: lightyellow ; border: 1px solid #999; margin: 5px 0 ; padding: 5px ; width:40%\"><code>def toto(a, b):\n",
    "    s = 5\n",
    "    for p in range(a):\n",
    "       s = s + a\n",
    "       for k in range(a, b):\n",
    "           s = s + k\n",
    "       s = s + 1\n",
    "    s = s + 2\n",
    "    return s\n",
    "\n",
    "print( toto(2, 5) )</code></pre>"
   ]
  }
 ],
 "metadata": {
  "kernelspec": {
   "display_name": "Python 3",
   "language": "python",
   "name": "python3"
  },
  "language_info": {
   "codemirror_mode": {
    "name": "ipython",
    "version": 3
   },
   "file_extension": ".py",
   "mimetype": "text/x-python",
   "name": "python",
   "nbconvert_exporter": "python",
   "pygments_lexer": "ipython3",
   "version": "3.7.6"
  }
 },
 "nbformat": 4,
 "nbformat_minor": 2
}
