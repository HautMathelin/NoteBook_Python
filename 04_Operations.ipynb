{
 "cells": [
  {
   "cell_type": "markdown",
   "metadata": {},
   "source": [
    "# Chapitre 4: Opérations\n",
    "\n",
    "## 1. Avec des nombres (entiers et flottants)\n",
    "### a. Rappels\n",
    "\n",
    "<img src=\"./division.jpg\" width=\"300\">\n",
    "<cite>Source de l'image: <a href='https:haut-poirier.jimdofree.com/maths/calcul-en-ligne-et-pos%C3%A9/la-division-pos%C3%A9e/'>Classe de CM2 de M. Wiederkehr </a></cite>\n",
    "\n",
    "Dans la division de 5042 par 3 \n",
    "* le quotient euclidien est 1680 \n",
    "* le reste est 2\n",
    "\n",
    "On a l'égalité:  $5042 = 3 \\times 1680 + 2$\n",
    "\n",
    "\n",
    "### b. A savoir par coeur\n",
    "<table>\n",
    "<tr>\n",
    "<td> x + y </td>\n",
    "<td>Addition</td>\n",
    "</tr>\n",
    "<tr>\n",
    "<td> x - y </td>\n",
    "<td> Soustraction </td>\n",
    "</tr>\n",
    "<tr>\n",
    "<td> x * y </td>\n",
    "<td> Multiplication </td>\n",
    "</tr>\n",
    "<tr>\n",
    "<td> x / y </td>\n",
    "<td> Division décimale de x par y </td>\n",
    "</tr>\n",
    "<tr>\n",
    "<td><strong> x // y </strong></td>\n",
    "<td><strong> Quotient de la division euclidienne de x par y </strong></td>\n",
    "</tr>\n",
    "<tr>\n",
    "<td><strong> x % y </strong></td>\n",
    "<td><strong> Reste de la division euclidienne de x par y</strong></td>\n",
    "</tr>\n",
    "<tr>\n",
    "<td><strong> x ** y </strong></td>\n",
    "<td><strong> Puissance : x à la puissance y </strong></td>\n",
    "</tr>\n",
    "</table>\n",
    "\n",
    "### c. Exemple\n",
    "Dans le cadre ci-dessous, taper <span style=\"text-align:left; background: lightyellow ; border: 1px solid #999; margin: 10px 0 ; padding: 10px ; width:20%\">789 % 5</span>\n",
    "\n",
    "Exécuter le code.\n",
    "\n",
    "Sous le cadre, doit s'afficher 4: le reste de la division euclidienne de 759 par 5"
   ]
  },
  {
   "cell_type": "code",
   "execution_count": null,
   "metadata": {},
   "outputs": [],
   "source": []
  },
  {
   "cell_type": "markdown",
   "metadata": {},
   "source": [
    "### d. Exercice\n",
    "Dans le cadre ci-dessous, faites calculer\n",
    "<p style=\"text-align:left; background: lightyellow ; border: 1px solid #999; margin: 10px 0 ; padding: 10px ; width:20%\">$$\\frac{3^5+7^6}{5^9-3^4}$$</p>\n",
    "<p style=\"text-align:left; background: lightyellow ; border: 1px solid #999; margin: 10px 0 ; padding: 10px ; width:20%\">$$31^5\\times 7^{10}$$</p>\n",
    "<p style=\"text-align:left; background: lightyellow ; border: 1px solid #999; margin: 10px 0 ; padding: 10px ; width:20%\">$$25\\space / \\space7$$</p>\n",
    "<p style=\"text-align:left; background: lightyellow ; border: 1px solid #999; margin: 10px 0 ; padding: 10px ; width:20%\">$$25\\space // \\space7$$</p>\n",
    "<p style=\"text-align:left; background: lightyellow ; border: 1px solid #999; margin: 10px 0 ; padding: 10px ; width:20%\">$$\\frac{5}{11^9}$$</p>"
   ]
  },
  {
   "cell_type": "code",
   "execution_count": null,
   "metadata": {},
   "outputs": [],
   "source": []
  },
  {
   "cell_type": "markdown",
   "metadata": {},
   "source": [
    "#### Réponses\n",
    "* 0.06036320738293659  \n",
    "\n",
    "* 8087026557383599\n",
    "\n",
    "* 3.5714285714285716\n",
    "\n",
    "* 3\n",
    "\n",
    "* 2.120488091862425e-09 qui se lit $\\quad 2.120488091862425 \\times 10^9$\n",
    "\n",
    "\n",
    "#### Remarque\n",
    "Attention à ne pas oublier les parenthèses sous-entendues autour du numérateur et du dénominateur à la question 1\n",
    "\n",
    "\n",
    "### e. Vigilance avec les nombres flottants\n",
    "* Python est programmé pour pouvoir calculer avec des entiers très grands\n",
    "* Par contre, avec des nombres **flottants** (décimaux), Python **travaille avec des approximations**: il faut en tenir compte quand on teste des égalités !\n",
    "\n",
    "#### Illustration\n",
    "On considère le calcul:  $0,1 + 0,1 +0,1 - 0,3$\n",
    "\n",
    "1. Calculer le résultat à la main\n",
    "\n",
    "\n",
    "2. Faire calculer le résultat dans le cadre ci-dessous (sans oublier comment se note le séparateur décimal)"
   ]
  },
  {
   "cell_type": "code",
   "execution_count": 9,
   "metadata": {},
   "outputs": [
    {
     "data": {
      "text/plain": [
       "0.6000000000000001"
      ]
     },
     "execution_count": 9,
     "metadata": {},
     "output_type": "execute_result"
    }
   ],
   "source": [
    "0.1+0.1+0.1+0.3"
   ]
  },
  {
   "cell_type": "markdown",
   "metadata": {},
   "source": [
    "## 2. Des comparaisons\n",
    "\n",
    "### a. Par coeur\n",
    "<table>\n",
    "<tr>\n",
    "<td align=\"left\"> x > y </td>\n",
    "<td align=\"left\"> Teste si x est supérieur à y et renvoi True dans ce cas et False sinon</td>\n",
    "</tr>\n",
    "<tr>\n",
    "<td align=\"left\"> x >= y </td>\n",
    "<td align=\"left\"> Teste si x est supérieur ou égal à y et renvoi True dans ce cas et False sinon </td>\n",
    "</tr>\n",
    "<tr>\n",
    "<td align=\"left\"> x < y </td>\n",
    "<td align=\"left\"> Teste si x est inférieur à y et renvoi True dans ce cas et False sinon </td>\n",
    "</tr>\n",
    "<tr>\n",
    "<td align=\"left\"> x <= y </td>\n",
    "<td align=\"left\"> Teste si x est inférieur ou égal à y et renvoi True dans ce cas et False sinon </td>\n",
    "</tr>\n",
    "<tr>\n",
    "<td align=\"left\"> x == y </td>\n",
    "<td align=\"left\"> Teste si x est égal à y et renvoi True dans ce cas et False sinon </td>\n",
    "</tr>\n",
    "<tr>\n",
    "<td align=\"left\"> x != y </td>\n",
    "<td align=\"left\"> Teste si x est différent à y et renvoi True dans ce cas et False sinon </td>\n",
    "</tr>\n",
    "</table>\n",
    "\n",
    "\n",
    "### b. Remarques\n",
    "- Pour tester une égalité, on double le signe égal == pour faire la distinction avec le symbole d'affectation (un seul signe égal).\n",
    "\n",
    "\n",
    "* Le résultat d'une comparaison est de type booléen.\n",
    "\n",
    "\n",
    "* On peut aussi utiliser les opérateurs *and* et *or* entre deux booléens.\n",
    "\n",
    "\n",
    "\n",
    "### b. Exercice\n",
    "Pour chacun des cadres suivants \n",
    "* prévoir le résultat qui sera soit True, soit False\n",
    "* exécuter le code du cadre pour se vérifier (on clique sur le cadre pour le rendre actif et on clique sur le bouton 'exécuter' au-dessus de la page)"
   ]
  },
  {
   "cell_type": "code",
   "execution_count": 1,
   "metadata": {},
   "outputs": [
    {
     "data": {
      "text/plain": [
       "False"
      ]
     },
     "execution_count": 1,
     "metadata": {},
     "output_type": "execute_result"
    }
   ],
   "source": [
    "x = 12\n",
    "y = 3**2 + 2**2\n",
    "x == y"
   ]
  },
  {
   "cell_type": "code",
   "execution_count": 2,
   "metadata": {},
   "outputs": [
    {
     "data": {
      "text/plain": [
       "True"
      ]
     },
     "execution_count": 2,
     "metadata": {},
     "output_type": "execute_result"
    }
   ],
   "source": [
    "x = 3 * 7 + 4\n",
    "y = (12-7)**2\n",
    "x <= y"
   ]
  },
  {
   "cell_type": "code",
   "execution_count": 3,
   "metadata": {},
   "outputs": [
    {
     "data": {
      "text/plain": [
       "True"
      ]
     },
     "execution_count": 3,
     "metadata": {},
     "output_type": "execute_result"
    }
   ],
   "source": [
    "x = 12\n",
    "y = 3**2 + 2**2\n",
    "x != y"
   ]
  },
  {
   "cell_type": "code",
   "execution_count": 4,
   "metadata": {},
   "outputs": [
    {
     "data": {
      "text/plain": [
       "False"
      ]
     },
     "execution_count": 4,
     "metadata": {},
     "output_type": "execute_result"
    }
   ],
   "source": [
    "x = 12\n",
    "10 < x  and  x < 11"
   ]
  },
  {
   "cell_type": "code",
   "execution_count": 5,
   "metadata": {},
   "outputs": [
    {
     "data": {
      "text/plain": [
       "True"
      ]
     },
     "execution_count": 5,
     "metadata": {},
     "output_type": "execute_result"
    }
   ],
   "source": [
    "x = 12\n",
    "10 < x  or  x < 11"
   ]
  },
  {
   "cell_type": "code",
   "execution_count": 6,
   "metadata": {},
   "outputs": [
    {
     "data": {
      "text/plain": [
       "False"
      ]
     },
     "execution_count": 6,
     "metadata": {},
     "output_type": "execute_result"
    }
   ],
   "source": [
    "x = 0.1 + 0.1 +0.1 - 0.3\n",
    "x == 0"
   ]
  },
  {
   "cell_type": "markdown",
   "metadata": {},
   "source": [
    "## 3. Opérations sur les chaines de caractères\n",
    "\n",
    "A titre de curiosité, voici deux opérations possibles sur les chaines de caractères\n",
    "\n",
    "Exécuter les codes des deux cadres ci-dessous"
   ]
  },
  {
   "cell_type": "code",
   "execution_count": 7,
   "metadata": {},
   "outputs": [
    {
     "name": "stdout",
     "output_type": "stream",
     "text": [
      "SalutLes gens\n"
     ]
    }
   ],
   "source": [
    "a = \"Salut\"\n",
    "b = \"Les gens\"\n",
    "c = a + b\n",
    "print(c) "
   ]
  },
  {
   "cell_type": "code",
   "execution_count": 8,
   "metadata": {},
   "outputs": [
    {
     "name": "stdout",
     "output_type": "stream",
     "text": [
      "aie aie aie aie aie aie aie aie \n"
     ]
    }
   ],
   "source": [
    "a = \"aie \"\n",
    "b = 8 * a\n",
    "print(b)"
   ]
  },
  {
   "cell_type": "markdown",
   "metadata": {},
   "source": [
    "## 4. Savoir-faire attendus\n",
    "### a. Savoir répondre aux questions\n",
    "\n",
    "1. Comment faire calculer $179^7$ ?\n",
    "\n",
    "\n",
    "2. Comment faire calculer $\\frac{2-11^5}{5 \\times 93^4}$</p> ?\n",
    "\n",
    "\n",
    "3. Quelle est la différence entre les deux lignes de code suivantes\n",
    "<p style=\"text-align:left; background: lightyellow ; border: 1px solid #999; margin: 10px 0 ; padding: 10px ; width:20%\">\n",
    "a = 35 / 11<br>\n",
    "a = 35 // 11\n",
    "</p>\n",
    "\n",
    "\n",
    "4. Quel est le reste de la division euclidienne de 78 par 10 ? Comment le faire calculer sous Python ?\n",
    "\n",
    "\n",
    "5. Quel est le quotient de la division euclidienne de 78 par 10 ? Comment le faire calculer sous Python ?\n",
    "\n",
    "\n",
    "6. Pourquoi pour Python, a-t-on   $0.1 + 0.1 +0.1 - 0.3 \\neq 0$ ?\n",
    "\n",
    "\n",
    "### b. Savoir-faire\n",
    "Dans le cadre si dessous, écrire un code qui:\n",
    "* initialise la variable *a* avec la valeur 35\n",
    "* initialise la variable *b* avec la valeur 11\n",
    "* affiche à l'écran:  35 = 3 * 11 + 2\n",
    "\n",
    "Bien entendu, si on remplace 11 par 9 dans la deuxième ligne, le code doit fournir la bonne réponse !"
   ]
  },
  {
   "cell_type": "code",
   "execution_count": null,
   "metadata": {},
   "outputs": [],
   "source": [
    "\n",
    "\n",
    "\n",
    "\n",
    "\n"
   ]
  }
 ],
 "metadata": {
  "kernelspec": {
   "display_name": "PyCharm (notebook)",
   "language": "python",
   "name": "pycharm-21d6657a"
  },
  "language_info": {
   "codemirror_mode": {
    "name": "ipython",
    "version": 3
   },
   "file_extension": ".py",
   "mimetype": "text/x-python",
   "name": "python",
   "nbconvert_exporter": "python",
   "pygments_lexer": "ipython3",
   "version": "3.9.7"
  }
 },
 "nbformat": 4,
 "nbformat_minor": 2
}
